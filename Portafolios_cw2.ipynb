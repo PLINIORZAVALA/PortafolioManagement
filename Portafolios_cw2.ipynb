{
 "cells": [
  {
   "cell_type": "markdown",
   "metadata": {
    "id": "ydYtNErgg1RG"
   },
   "source": [
    "# Portfolio Management - Coursework 2: Asset simulation and Liability Driven Portfolios"
   ]
  },
  {
   "cell_type": "markdown",
   "metadata": {
    "id": "k-aV5DNEgRxy"
   },
   "source": [
    "Welcome to Coursework 2! In this coursework you will dive deeper into portfolio construction,this time using the concepts of asset simulation and liability-driven portfolio management. Different to cw1, this implies start thinking about **investment strategies**.\n",
    "\n",
    "This assignment is designed to practice all the concepts studied in this section of the course, and it is mainly build upon your foundational knowledge in mathematical finance, with a strong focus on practical application and critical analysis of portfolio management strategies. In particular, we will explore how to simulate asset returns, construct liability-driven portfolios, and analyze the alignment between asset performance and liability obligations.\n",
    "\n",
    "Here's a breakdown of the topics you will cover:\n",
    "\n",
    "1. Portfolio Management Basics:\n",
    "  \n",
    "  We use the foundational concepts in managing a collection of financial assets studied in the first part of the course, and in your previous courses in mathematical finance. The primary goal is to maximize returns while managing risks through diversification, asset allocation, and selection strategies.\n",
    "\n",
    "2. Asset Simulation:\n",
    "  You will explore asset simulation techniques, which are essential for predicting future asset values based on historical data, statistical models, or random processes. By simulating possible future outcomes, you will learn to assess potential portfolio performance under different scenarios.\n",
    "\n",
    "3. Liability-Driven Investment (LDI):\n",
    "  You will be introduced to strategies where investments are selected to meet specific future liabilities, such as pension payouts. LDI focuses on aligning assets with liabilities to minimize the risk of not meeting obligations. This approach is particularly relevant for institutions like pension funds, where cash flow alignment is crucial.\n",
    "\n",
    "There are two types of exercises, those marked with letter **E** represent programmatic exercises that guide you to implement the concepts seen in class. And those marked with **R**, which are applications or extensions of the basic concepts studied in exercises **E** and are intended to be used for your report. Thus, your report must be based on exercises R, and to complete exercises R you need to complete exercises E.\n",
    "\n",
    "Also, this coursework is structured in a progressive fashion, i.e. we use the results from each section for the next one, so that we end up combining all we see through the exercises. As such, you are also expected to write your report in this way, building up a general topic step by step, like telling a story. Try to build up progressively adding cocnepts and results.\n",
    "\n",
    "Notice that the output of some E exercises is given so that you can check that your implementation is working as expected.\n",
    "\n",
    "You are expected to:\n",
    "\n",
    "1. Complete both types of exercises and write a report with your results and conclusions. If you have done your previous coursework many exercises should be easy to complete.\n",
    "\n",
    "2. For the report you must include all the results from exercises R in a story-telling fashion. You need to explain what you are doing, why and how, and to interpret your results and describe what they mean the best you can and how they are related to other results and the general topic.The report is based in exercises R, and to do exercises R you need first to complete exercises E.\n",
    "\n",
    "3. No code should be included in the main text of the final report, just include figures, tables, numbers, and your analysis of results and interpretations.\n",
    "\n",
    "4. Figures and tables are required to have captions to understand what they represent, and when your refer to them on your report you need to indicate which number of Table, Figure, etc. you are refering to.\n",
    "\n",
    "5. The notebook you have obtained with your code must be saved in pdf format and included as a separe file that serves as appendix for the report.\n",
    "\n",
    "6. The final report must be less han 3500 words, and contain at the end the count of words. The report must be written in Latex but submitted just as pdf, together with the notebook with your code as pdf. This means that, at the end, you must submit ONLY TWO pdfs.\n",
    "\n",
    "Any error to meet these conditions will make your work not considered for grading.\n",
    "\n",
    "You may start now. Good luck!"
   ]
  },
  {
   "cell_type": "markdown",
   "metadata": {
    "id": "Pq8XjxmvgSkz"
   },
   "source": [
    "## 1 CPPI\n",
    "\n",
    "You already know how to build a portfolio. Now, we'll implement our first dynamic portfolio strategy called Constant Proportion Portfolio Insurance (CPPI), which balances growth potential with downside protection.\n",
    "\n",
    "CPPI works by adjusting the portfolio's exposure to risky assets based on a \"cushion,\" which is the difference between the portfolio's current value and a predefined floor (minimum acceptable level). Here's how it functions:\n",
    "\n",
    "$\\text{Investment in Risky Asset}=Multiplier×(Portfolio Value−Floor)$\n",
    "\n",
    "- Define the Floor: Set a minimum value (floor) below which the portfolio should not fall. This could be based on specific needs or risk tolerance.\n",
    "\n",
    "- Calculate the Cushion: The cushion is calculated as the difference between the current portfolio value and the floor. The cushion represents funds that can be invested in risky assets since it’s the amount the portfolio can \"afford\" to risk.\n",
    "\n",
    "- Apply the Multiplier: A multiplier is used to determine how much of the cushion should be allocated to risky assets. For example, if the multiplier is 3 and the cushion is 100, then 300 would be allocated to risky assets.\n",
    "\n",
    "- Adjust Portfolio Dynamically: As the portfolio's value changes, the cushion changes as well. The portfolio is rebalanced periodically to adjust the allocation between risky and safe assets according to the updated cushion.\n",
    "\n",
    "When the portfolio performs well, the cushion grows, allowing for more investment in risky assets. Conversely, if the portfolio value falls, the cushion shrinks, prompting a shift toward safer assets to protect the floor. This approach maintains a balance between growth and protection, making CPPI a suitable strategy for investors seeking controlled risk exposure with a guaranteed minimum value.\n",
    "\n",
    "\n",
    "#### Load data and libraries\n",
    "As always strat by loading some libraries and data that would be useful for the practice."
   ]
  },
  {
   "cell_type": "code",
   "execution_count": null,
   "metadata": {
    "id": "bpQSocBE4Hm3"
   },
   "outputs": [],
   "source": [
    "# Import libraries\n",
    "# pandas\n",
    "import pandas  as pd\n",
    "\n",
    "# numpy\n",
    "import numpy as np\n",
    "\n",
    "# matplotlib.pyplot\n",
    "import matplotlib.pyplot as plt\n"
   ]
  },
  {
   "cell_type": "code",
   "execution_count": null,
   "metadata": {
    "colab": {
     "base_uri": "https://localhost:8080/"
    },
    "id": "_xh-hR9A6gE-",
    "outputId": "210fa3ef-8e9d-4e68-bfde-0bbd838de7eb"
   },
   "outputs": [
    {
     "name": "stderr",
     "output_type": "stream",
     "text": [
      "<ipython-input-9-832b9b071bf2>:2: UserWarning: Could not infer format, so each element will be parsed individually, falling back to `dateutil`. To ensure parsing is consistent and as-expected, please specify a format.\n",
      "  df_returns=pd.read_csv(\"ind30_m_vw_rets.csv\", header=0, index_col=0,parse_dates=True)/100 #convert to percentages\n"
     ]
    }
   ],
   "source": [
    "#Load data industry returns\n",
    "df_returns=pd.read_csv(\"index30_returns.csv\", header=0, index_col=0,parse_dates=True)/100 #convert to percentages\n",
    "df_returns.index=pd.to_datetime(df_returns.index,format=\"%Y%m\").to_period('M') #to time series in monthly periods\n",
    "df_returns.columns=df_returns.columns.str.strip() #remove blank spaces in names"
   ]
  },
  {
   "cell_type": "markdown",
   "metadata": {
    "id": "nS0k5dN9MgjQ"
   },
   "source": [
    "##### **E1. Load the total market index size and industry firms. Give time series format in monthly periods. Note: Do not transform to percentages.**"
   ]
  },
  {
   "cell_type": "code",
   "execution_count": null,
   "metadata": {
    "id": "YzYoyh5PQ4su"
   },
   "outputs": [],
   "source": [
    "#Load the total market index\n",
    "#get earnings sizes from the companies for each industry\n",
    "df_index_size=pd.read_csv(\"index30_size.csv\", header=0, index_col=0,parse_dates=True)\n",
    "df_index_size.index=df_index_size.index.to_period()\n",
    "df_index_size.columns=None\n",
    "\n",
    "#get number of firms in the index of each industry\n",
    "df_index_firms=None\n",
    "None\n",
    "None"
   ]
  },
  {
   "cell_type": "markdown",
   "metadata": {
    "id": "ljrnCe5EN2Le"
   },
   "source": [
    "Now, you have the number of firms in industry for this market, and the average firm size for each of these industries at different periods. You will calculate the market capitalization for each industry and determine the overall market return based on weighted capitalization.\n",
    "\n",
    "Market capitalization represents the total value of each industry. Understanding each industry's market cap helps determine its influence in the overall market. It is computed as follows:\n",
    "\n",
    "$\\text{Industry Market Cap}_i=\\text{Number of Firms in Industry}_i*\\text{Average Firm Size}_i$\n",
    "\n",
    "The sum of the Industry Market Capitalization returns the (Total) Market Capitalization, which is the size of the market at each period.\n",
    "\n",
    "And, by dividing the capitalization of each industry by the market capitalization we obtain the weighted capitalization. Capitalization weight indicates how much each industry contributes to the overall market. This is essential for calculating a weighted market return that reflects each industry's relative importance.\n",
    "\n",
    "Once you have these quantities, you can compute the total market return as a weighted average of individual industry returns. This is:\n",
    "\n",
    "$\\text{Total Market Return}=∑_i(\\text{Capitalization Weight}_i*\\text{Industry Return}_i)$\n",
    "\n",
    "\n",
    "##### **E2. Calculate Market Capitalization and Weighted Market Return**"
   ]
  },
  {
   "cell_type": "code",
   "execution_count": null,
   "metadata": {
    "id": "ZhfeIVkTNJ9v"
   },
   "outputs": [],
   "source": [
    "#market capitalization\n",
    "ind_mktcap=None\n",
    "total_mktcap=ind_mktcap.sum(axis=\"columns\")\n",
    "\n",
    "#weighted capitalization\n",
    "ind_capweight=ind_mktcap.divide(None,axis=\"rows\")\n",
    "\n",
    "#returns from market indez and industry returns\n",
    "total_market_return=(None).sum(axis=\"columns\")"
   ]
  },
  {
   "cell_type": "markdown",
   "metadata": {
    "id": "JDjahcTtQVAM"
   },
   "source": [
    "For the following, consider just the returns for Steel, Finance, and Beer industries from 2000 onwards. These industries will form our risky assets."
   ]
  },
  {
   "cell_type": "code",
   "execution_count": null,
   "metadata": {
    "id": "f9PFK_bs4NUN"
   },
   "outputs": [],
   "source": [
    "#Select specific industries as risky assets and create a safe asset with fixed monthly returns.\n",
    "#Consider returns from 2000 for steel, fin, and beer\n",
    "df_risky=None"
   ]
  },
  {
   "cell_type": "markdown",
   "metadata": {
    "id": "m0INmbn7QhRY"
   },
   "source": [
    "We also need safe assets. For this, we create a dataframe with the same number of returns and assume a monthly fixed safe return of 0.02 annualized. This is, we have a risk-free asset that pays 0.02 per year."
   ]
  },
  {
   "cell_type": "code",
   "execution_count": null,
   "metadata": {
    "id": "4srr2N7T6PhN"
   },
   "outputs": [],
   "source": [
    "df_safe = pd.DataFrame().reindex_like(df_risky)\n",
    "df_safe[:] = 0.02 / 12  # Monthly fixed safe return (2% annualized)"
   ]
  },
  {
   "cell_type": "markdown",
   "metadata": {
    "id": "3qdVje-IQ_7k"
   },
   "source": [
    "As we have risky and risk-free assets, let's implement CPPI and explore how it works. First, assume we invest 1000 USD, that the floor (the minimum value below which the portfolio should not fall) is 80% of the initial value, and that the multiplier (the level of exposure to risky assets based on the cushion, i.e. the aggressiveness of risky asset allocations) is 3."
   ]
  },
  {
   "cell_type": "code",
   "execution_count": null,
   "metadata": {
    "id": "8i5UouRtRjJi"
   },
   "outputs": [],
   "source": [
    "#Set up initial account parameters:\n",
    "start = None  # Starting account value\n",
    "floor = None  # Floor as a percentage of starting account, this is just a percentage\n",
    "account_value = start #starting value of the investment\n",
    "floor_value = start * floor #floor applied to the account value\n",
    "m = None  # CPPI multiplier"
   ]
  },
  {
   "cell_type": "markdown",
   "metadata": {
    "id": "JWdYJp-FSQHn"
   },
   "source": [
    "CPPI works through out time, thus we need to define an entity to save the results of our simulated example. For this, we use dataframes of with the same number of trading periods than our risky assets, which are the number of steps for the simulation. As we are interested in tracking the evolution of portfolio values, risky and safe allocations, and total returns over time, we are going to define 3 dataframes."
   ]
  },
  {
   "cell_type": "code",
   "execution_count": null,
   "metadata": {
    "id": "SOINsvCt-TP2"
   },
   "outputs": [],
   "source": [
    "# Prepare to track the evolution of account values\n",
    "dates = df_risky.index\n",
    "n_steps = len(dates)\n",
    "\n",
    "# Prepare trackers for the the history of account values, cushion, and risky weights\n",
    "account_history = pd.DataFrame().reindex_like(df_risky)\n",
    "cushion_history = pd.DataFrame().reindex_like(df_risky)\n",
    "risky_w_history = pd.DataFrame().reindex_like(df_risky)\n"
   ]
  },
  {
   "cell_type": "markdown",
   "metadata": {
    "id": "0KMTsu4UTQ0C"
   },
   "source": [
    "Awesome, according to the definition we have everything we need to simulate a CPPI strategy. The following code implements CPPI with a loop that adjusts the portfolio's allocation between risky and safe assets dynamically based on changes in the portfolio value and cushion, aiming to grow the portfolio while maintaining a minimum guaranteed level (floor). This implies:\n",
    "\n",
    "1. Calculate the cushion:\n",
    "  $\\text{Cushion=(Portfolio Value−Floor)/Portfolio Value}$\n",
    "2. Allocation Weights for the Risky Asset:\n",
    "  $\\text{Risky Investment Weights=Multiplier×Cushion}$\n",
    "3. Allocation Weights for the Safe Asset: Any remaining funds are allocated to the safe asset.\n",
    "4. Allocate money to assets: Apply the weights to the current account value.\n",
    "5. Update the account value.\n",
    "\n",
    "$\\text{New Portfolio Value=(Allocation to Risky×(1+Risky Return))+(Allocation to Safe×(1+Safe Return))}$\n",
    "\n",
    "\n",
    "\n",
    "\n",
    "Remember, our defined parameters allow you to control the level of risk and protection within the CPPI strategy. The floor ensures downside protection, while the multiplier allows growth by dynamically allocating more to risky assets when the portfolio performs well.\n",
    "\n",
    "Caution: The loop saves the values being tracket to the dfs we defined to track them, so if you run the loop completely it would change the values saved.\n",
    "\n",
    "\n",
    "##### **E3. Implement CCPI**\n",
    "\n"
   ]
  },
  {
   "cell_type": "code",
   "execution_count": null,
   "metadata": {
    "id": "Ml6FKYsn4NLw"
   },
   "outputs": [],
   "source": [
    "#This loop performs the CPPI calculations by updating allocations based on the cushion. Use your defined strating parameters\n",
    "for step in range(n_steps):\n",
    "    # Calculate the current cushion\n",
    "    cushion = None\n",
    "\n",
    "    # Calculate weights for allocation to risky assets based on multiplier\n",
    "    risky_w = None\n",
    "\n",
    "    # Ensure allocation to risky does not exceed portfolio value and there\n",
    "    # is no short selling\n",
    "    risky_w = np.minimum(risky_w, 1)\n",
    "    risky_w = np.maximum(risky_w, 0)\n",
    "\n",
    "    # Compute weights for the safe assets\n",
    "    safe_w = None\n",
    "\n",
    "    # Allocate the money in the acount to the risky and safe assets\n",
    "    risky_alloc = None\n",
    "    safe_alloc = None\n",
    "\n",
    "    # Update account value based on risky and safe returns\n",
    "    account_value = risky_alloc * (1 + df_risky.iloc[step]) + safe_alloc * (1 + df_safe.iloc[step])\n",
    "\n",
    "   # Store the portfolio value and allocations (for visualization or tracking)ry of allocations\n",
    "    cushion_history.iloc[step] = cushion\n",
    "    account_history.iloc[step] = account_value\n",
    "    risky_w_history.iloc[step] = risky_w"
   ]
  },
  {
   "cell_type": "code",
   "execution_count": null,
   "metadata": {
    "colab": {
     "base_uri": "https://localhost:8080/",
     "height": 206
    },
    "id": "TZsethzm_6Ui",
    "outputId": "ffc13e2b-cf8c-4f17-a1d4-8a2f2584cc37"
   },
   "outputs": [
    {
     "data": {
      "application/vnd.google.colaboratory.intrinsic+json": {
       "summary": "{\n  \"name\": \"account_history\",\n  \"rows\": 228,\n  \"fields\": [\n    {\n      \"column\": \"Steel\",\n      \"properties\": {\n        \"dtype\": \"number\",\n        \"std\": 280.04290925845186,\n        \"min\": 803.3474608002002,\n        \"max\": 2069.8336747023495,\n        \"num_unique_values\": 228,\n        \"samples\": [\n          1000.163540839844,\n          960.3035216284804,\n          979.8255918037066\n        ],\n        \"semantic_type\": \"\",\n        \"description\": \"\"\n      }\n    },\n    {\n      \"column\": \"Fin\",\n      \"properties\": {\n        \"dtype\": \"number\",\n        \"std\": 354.6026754013128,\n        \"min\": 815.419104872993,\n        \"max\": 2271.337494400017,\n        \"num_unique_values\": 228,\n        \"samples\": [\n          2115.9016917086014,\n          1372.809332064172,\n          1110.5600021960518\n        ],\n        \"semantic_type\": \"\",\n        \"description\": \"\"\n      }\n    },\n    {\n      \"column\": \"Beer\",\n      \"properties\": {\n        \"dtype\": \"number\",\n        \"std\": 1015.0225391109539,\n        \"min\": 921.1540193220935,\n        \"max\": 4178.622709787974,\n        \"num_unique_values\": 228,\n        \"samples\": [\n          4178.622709787974,\n          981.6086672810903,\n          1069.6591443856335\n        ],\n        \"semantic_type\": \"\",\n        \"description\": \"\"\n      }\n    }\n  ]\n}",
       "type": "dataframe",
       "variable_name": "account_history"
      },
      "text/html": [
       "\n",
       "  <div id=\"df-32bff105-6609-448a-970d-dabd9dfcaca4\" class=\"colab-df-container\">\n",
       "    <div>\n",
       "<style scoped>\n",
       "    .dataframe tbody tr th:only-of-type {\n",
       "        vertical-align: middle;\n",
       "    }\n",
       "\n",
       "    .dataframe tbody tr th {\n",
       "        vertical-align: top;\n",
       "    }\n",
       "\n",
       "    .dataframe thead th {\n",
       "        text-align: right;\n",
       "    }\n",
       "</style>\n",
       "<table border=\"1\" class=\"dataframe\">\n",
       "  <thead>\n",
       "    <tr style=\"text-align: right;\">\n",
       "      <th></th>\n",
       "      <th>Steel</th>\n",
       "      <th>Fin</th>\n",
       "      <th>Beer</th>\n",
       "    </tr>\n",
       "  </thead>\n",
       "  <tbody>\n",
       "    <tr>\n",
       "      <th>2000-01</th>\n",
       "      <td>984.046667</td>\n",
       "      <td>974.146667</td>\n",
       "      <td>986.986667</td>\n",
       "    </tr>\n",
       "    <tr>\n",
       "      <th>2000-02</th>\n",
       "      <td>1022.532887</td>\n",
       "      <td>930.544355</td>\n",
       "      <td>922.400967</td>\n",
       "    </tr>\n",
       "    <tr>\n",
       "      <th>2000-03</th>\n",
       "      <td>1046.423637</td>\n",
       "      <td>996.806099</td>\n",
       "      <td>923.803661</td>\n",
       "    </tr>\n",
       "    <tr>\n",
       "      <th>2000-04</th>\n",
       "      <td>1040.725683</td>\n",
       "      <td>972.390635</td>\n",
       "      <td>938.392240</td>\n",
       "    </tr>\n",
       "    <tr>\n",
       "      <th>2000-05</th>\n",
       "      <td>1005.725487</td>\n",
       "      <td>999.318231</td>\n",
       "      <td>988.545742</td>\n",
       "    </tr>\n",
       "  </tbody>\n",
       "</table>\n",
       "</div>\n",
       "    <div class=\"colab-df-buttons\">\n",
       "\n",
       "  <div class=\"colab-df-container\">\n",
       "    <button class=\"colab-df-convert\" onclick=\"convertToInteractive('df-32bff105-6609-448a-970d-dabd9dfcaca4')\"\n",
       "            title=\"Convert this dataframe to an interactive table.\"\n",
       "            style=\"display:none;\">\n",
       "\n",
       "  <svg xmlns=\"http://www.w3.org/2000/svg\" height=\"24px\" viewBox=\"0 -960 960 960\">\n",
       "    <path d=\"M120-120v-720h720v720H120Zm60-500h600v-160H180v160Zm220 220h160v-160H400v160Zm0 220h160v-160H400v160ZM180-400h160v-160H180v160Zm440 0h160v-160H620v160ZM180-180h160v-160H180v160Zm440 0h160v-160H620v160Z\"/>\n",
       "  </svg>\n",
       "    </button>\n",
       "\n",
       "  <style>\n",
       "    .colab-df-container {\n",
       "      display:flex;\n",
       "      gap: 12px;\n",
       "    }\n",
       "\n",
       "    .colab-df-convert {\n",
       "      background-color: #E8F0FE;\n",
       "      border: none;\n",
       "      border-radius: 50%;\n",
       "      cursor: pointer;\n",
       "      display: none;\n",
       "      fill: #1967D2;\n",
       "      height: 32px;\n",
       "      padding: 0 0 0 0;\n",
       "      width: 32px;\n",
       "    }\n",
       "\n",
       "    .colab-df-convert:hover {\n",
       "      background-color: #E2EBFA;\n",
       "      box-shadow: 0px 1px 2px rgba(60, 64, 67, 0.3), 0px 1px 3px 1px rgba(60, 64, 67, 0.15);\n",
       "      fill: #174EA6;\n",
       "    }\n",
       "\n",
       "    .colab-df-buttons div {\n",
       "      margin-bottom: 4px;\n",
       "    }\n",
       "\n",
       "    [theme=dark] .colab-df-convert {\n",
       "      background-color: #3B4455;\n",
       "      fill: #D2E3FC;\n",
       "    }\n",
       "\n",
       "    [theme=dark] .colab-df-convert:hover {\n",
       "      background-color: #434B5C;\n",
       "      box-shadow: 0px 1px 3px 1px rgba(0, 0, 0, 0.15);\n",
       "      filter: drop-shadow(0px 1px 2px rgba(0, 0, 0, 0.3));\n",
       "      fill: #FFFFFF;\n",
       "    }\n",
       "  </style>\n",
       "\n",
       "    <script>\n",
       "      const buttonEl =\n",
       "        document.querySelector('#df-32bff105-6609-448a-970d-dabd9dfcaca4 button.colab-df-convert');\n",
       "      buttonEl.style.display =\n",
       "        google.colab.kernel.accessAllowed ? 'block' : 'none';\n",
       "\n",
       "      async function convertToInteractive(key) {\n",
       "        const element = document.querySelector('#df-32bff105-6609-448a-970d-dabd9dfcaca4');\n",
       "        const dataTable =\n",
       "          await google.colab.kernel.invokeFunction('convertToInteractive',\n",
       "                                                    [key], {});\n",
       "        if (!dataTable) return;\n",
       "\n",
       "        const docLinkHtml = 'Like what you see? Visit the ' +\n",
       "          '<a target=\"_blank\" href=https://colab.research.google.com/notebooks/data_table.ipynb>data table notebook</a>'\n",
       "          + ' to learn more about interactive tables.';\n",
       "        element.innerHTML = '';\n",
       "        dataTable['output_type'] = 'display_data';\n",
       "        await google.colab.output.renderOutput(dataTable, element);\n",
       "        const docLink = document.createElement('div');\n",
       "        docLink.innerHTML = docLinkHtml;\n",
       "        element.appendChild(docLink);\n",
       "      }\n",
       "    </script>\n",
       "  </div>\n",
       "\n",
       "\n",
       "<div id=\"df-2db6f4a6-5018-40ba-ad1d-bee8e7523219\">\n",
       "  <button class=\"colab-df-quickchart\" onclick=\"quickchart('df-2db6f4a6-5018-40ba-ad1d-bee8e7523219')\"\n",
       "            title=\"Suggest charts\"\n",
       "            style=\"display:none;\">\n",
       "\n",
       "<svg xmlns=\"http://www.w3.org/2000/svg\" height=\"24px\"viewBox=\"0 0 24 24\"\n",
       "     width=\"24px\">\n",
       "    <g>\n",
       "        <path d=\"M19 3H5c-1.1 0-2 .9-2 2v14c0 1.1.9 2 2 2h14c1.1 0 2-.9 2-2V5c0-1.1-.9-2-2-2zM9 17H7v-7h2v7zm4 0h-2V7h2v10zm4 0h-2v-4h2v4z\"/>\n",
       "    </g>\n",
       "</svg>\n",
       "  </button>\n",
       "\n",
       "<style>\n",
       "  .colab-df-quickchart {\n",
       "      --bg-color: #E8F0FE;\n",
       "      --fill-color: #1967D2;\n",
       "      --hover-bg-color: #E2EBFA;\n",
       "      --hover-fill-color: #174EA6;\n",
       "      --disabled-fill-color: #AAA;\n",
       "      --disabled-bg-color: #DDD;\n",
       "  }\n",
       "\n",
       "  [theme=dark] .colab-df-quickchart {\n",
       "      --bg-color: #3B4455;\n",
       "      --fill-color: #D2E3FC;\n",
       "      --hover-bg-color: #434B5C;\n",
       "      --hover-fill-color: #FFFFFF;\n",
       "      --disabled-bg-color: #3B4455;\n",
       "      --disabled-fill-color: #666;\n",
       "  }\n",
       "\n",
       "  .colab-df-quickchart {\n",
       "    background-color: var(--bg-color);\n",
       "    border: none;\n",
       "    border-radius: 50%;\n",
       "    cursor: pointer;\n",
       "    display: none;\n",
       "    fill: var(--fill-color);\n",
       "    height: 32px;\n",
       "    padding: 0;\n",
       "    width: 32px;\n",
       "  }\n",
       "\n",
       "  .colab-df-quickchart:hover {\n",
       "    background-color: var(--hover-bg-color);\n",
       "    box-shadow: 0 1px 2px rgba(60, 64, 67, 0.3), 0 1px 3px 1px rgba(60, 64, 67, 0.15);\n",
       "    fill: var(--button-hover-fill-color);\n",
       "  }\n",
       "\n",
       "  .colab-df-quickchart-complete:disabled,\n",
       "  .colab-df-quickchart-complete:disabled:hover {\n",
       "    background-color: var(--disabled-bg-color);\n",
       "    fill: var(--disabled-fill-color);\n",
       "    box-shadow: none;\n",
       "  }\n",
       "\n",
       "  .colab-df-spinner {\n",
       "    border: 2px solid var(--fill-color);\n",
       "    border-color: transparent;\n",
       "    border-bottom-color: var(--fill-color);\n",
       "    animation:\n",
       "      spin 1s steps(1) infinite;\n",
       "  }\n",
       "\n",
       "  @keyframes spin {\n",
       "    0% {\n",
       "      border-color: transparent;\n",
       "      border-bottom-color: var(--fill-color);\n",
       "      border-left-color: var(--fill-color);\n",
       "    }\n",
       "    20% {\n",
       "      border-color: transparent;\n",
       "      border-left-color: var(--fill-color);\n",
       "      border-top-color: var(--fill-color);\n",
       "    }\n",
       "    30% {\n",
       "      border-color: transparent;\n",
       "      border-left-color: var(--fill-color);\n",
       "      border-top-color: var(--fill-color);\n",
       "      border-right-color: var(--fill-color);\n",
       "    }\n",
       "    40% {\n",
       "      border-color: transparent;\n",
       "      border-right-color: var(--fill-color);\n",
       "      border-top-color: var(--fill-color);\n",
       "    }\n",
       "    60% {\n",
       "      border-color: transparent;\n",
       "      border-right-color: var(--fill-color);\n",
       "    }\n",
       "    80% {\n",
       "      border-color: transparent;\n",
       "      border-right-color: var(--fill-color);\n",
       "      border-bottom-color: var(--fill-color);\n",
       "    }\n",
       "    90% {\n",
       "      border-color: transparent;\n",
       "      border-bottom-color: var(--fill-color);\n",
       "    }\n",
       "  }\n",
       "</style>\n",
       "\n",
       "  <script>\n",
       "    async function quickchart(key) {\n",
       "      const quickchartButtonEl =\n",
       "        document.querySelector('#' + key + ' button');\n",
       "      quickchartButtonEl.disabled = true;  // To prevent multiple clicks.\n",
       "      quickchartButtonEl.classList.add('colab-df-spinner');\n",
       "      try {\n",
       "        const charts = await google.colab.kernel.invokeFunction(\n",
       "            'suggestCharts', [key], {});\n",
       "      } catch (error) {\n",
       "        console.error('Error during call to suggestCharts:', error);\n",
       "      }\n",
       "      quickchartButtonEl.classList.remove('colab-df-spinner');\n",
       "      quickchartButtonEl.classList.add('colab-df-quickchart-complete');\n",
       "    }\n",
       "    (() => {\n",
       "      let quickchartButtonEl =\n",
       "        document.querySelector('#df-2db6f4a6-5018-40ba-ad1d-bee8e7523219 button');\n",
       "      quickchartButtonEl.style.display =\n",
       "        google.colab.kernel.accessAllowed ? 'block' : 'none';\n",
       "    })();\n",
       "  </script>\n",
       "</div>\n",
       "\n",
       "    </div>\n",
       "  </div>\n"
      ],
      "text/plain": [
       "               Steel         Fin        Beer\n",
       "2000-01   984.046667  974.146667  986.986667\n",
       "2000-02  1022.532887  930.544355  922.400967\n",
       "2000-03  1046.423637  996.806099  923.803661\n",
       "2000-04  1040.725683  972.390635  938.392240\n",
       "2000-05  1005.725487  999.318231  988.545742"
      ]
     },
     "execution_count": 22,
     "metadata": {},
     "output_type": "execute_result"
    }
   ],
   "source": [
    "#First values of our CCPI\n",
    "account_history.head()"
   ]
  },
  {
   "cell_type": "markdown",
   "metadata": {
    "id": "7tMKWe-5XAka"
   },
   "source": [
    "Before seeing the effects of CPPI strategy, what would have happened if we had put all the money in the risky assets and not using the CPPI? Well, this is basically the cumulative returns of the risky assets:"
   ]
  },
  {
   "cell_type": "code",
   "execution_count": null,
   "metadata": {
    "id": "wWY8kFF8RfuH"
   },
   "outputs": [],
   "source": [
    "#Plot the account history for one asset, comparing CPPI-managed wealth with a fully risky allocation strategy.\n",
    "risky_wealth = start * (1 + df_risky).cumprod()\n",
    "risky_wealth.plot()"
   ]
  },
  {
   "cell_type": "markdown",
   "metadata": {
    "id": "JlG7PyHgXlsh"
   },
   "source": [
    "But, what is the investment allocation recommended using CPPI? Well, we can know this by plotting our simulated weights."
   ]
  },
  {
   "cell_type": "code",
   "execution_count": null,
   "metadata": {
    "id": "JJM7ppRJRiYR"
   },
   "outputs": [],
   "source": [
    "risky_w_history.plot()"
   ]
  },
  {
   "cell_type": "markdown",
   "metadata": {
    "id": "hAIWYo-dXuU8"
   },
   "source": [
    "This is the evolution of the allocation to risky assets. Notice the increment in investment on beer. Let's compare then the CPPI vs Full Risky Allocation to beer:"
   ]
  },
  {
   "cell_type": "code",
   "execution_count": null,
   "metadata": {
    "colab": {
     "base_uri": "https://localhost:8080/",
     "height": 545
    },
    "id": "xX9wOwNW4NCa",
    "outputId": "2c2d9109-694d-4b8f-9bc2-2826186a360b"
   },
   "outputs": [
    {
     "data": {
      "image/png": "[encoded data removed]",
      "text/plain": [
       "<Figure size 1200x600 with 1 Axes>"
      ]
     },
     "metadata": {},
     "output_type": "display_data"
    }
   ],
   "source": [
    "\n",
    "# Plot CPPI-managed wealth vs. full-risky strategy for comparison\n",
    "ax = account_history[\"Beer\"].plot(figsize=(12, 6), title=\"CPPI vs Full Risky Allocation\")\n",
    "risky_wealth[\"Beer\"].plot(ax=ax, style=\"k:\", label=\"Full Risky Allocation (Beer)\")\n",
    "plt.axhline(y=floor_value, color='r', linestyle=\"--\", label=\"Floor Value\")  # Plot the floor line\n",
    "plt.legend()\n",
    "plt.show()"
   ]
  },
  {
   "cell_type": "markdown",
   "metadata": {
    "id": "kNqO2xGiX3NM"
   },
   "source": [
    "What can you observe?\n",
    "\n",
    "Notice that allocation to beer increased, and we are far away from the floor. The no CPPI had more volatility. In practice, we would had incresed the floor, as we are far away from it, otherwise we are very conservative.\n",
    "\n",
    "#### **E4. Compare CPPI vs Risky Allocation for Finance and Steel**"
   ]
  },
  {
   "cell_type": "code",
   "execution_count": null,
   "metadata": {
    "id": "QG7wjkxIRoBR"
   },
   "outputs": [],
   "source": [
    "#Finance\n",
    "None"
   ]
  },
  {
   "cell_type": "markdown",
   "metadata": {
    "id": "pklkR-oKZYyY"
   },
   "source": [
    "Here the effect of CPPI is more cleared, as in 2009 the allocation was really good, we had no violation and we had protection when the market crashed, the defect was that when the market rose we didn't enjoy all the upside benefit."
   ]
  },
  {
   "cell_type": "code",
   "execution_count": null,
   "metadata": {
    "id": "7RUCu2dCRpxV"
   },
   "outputs": [],
   "source": [
    "#Steel\n",
    "None"
   ]
  },
  {
   "cell_type": "markdown",
   "metadata": {
    "id": "oqtH2745ZssR"
   },
   "source": [
    "To further analyze this, we are going to make use of our previous risk-returns metrics from cw1. Namely, annualized returns, annualized volatility, skewness, kurtosis, Cornish-Fisher VaR, Historic VaR, CVaR, Sharpe Ratio, and Max Drawdown.\n",
    "\n",
    "##### **E5. Compute the summary statistics studied in CW1 and apply them to df_risky**"
   ]
  },
  {
   "cell_type": "code",
   "execution_count": null,
   "metadata": {
    "id": "J5tXlE6TEiH8"
   },
   "outputs": [],
   "source": [
    "def summary_stats(r):\n",
    "    \"\"\"\n",
    "    Calculate summary statistics for returns.\n",
    "    Includes annualized return, volatility, skewness, kurtosis, VaR, CVaR, Sharpe ratio, and max drawdown.\n",
    "    \"\"\"\n",
    "    # Calculate annualized return using compounded growth\n",
    "    compounded_growth = (1 + r).prod()\n",
    "    n_periods = r.shape[0]\n",
    "    ann_r = None\n",
    "\n",
    "    # Annualized volatility\n",
    "    ann_vol = None\n",
    "\n",
    "    # Skewness and kurtosis\n",
    "    skew = None\n",
    "    kurt = None\n",
    "\n",
    "    # Value at Risk (5%) using Cornish-Fisher expansion\n",
    "    z = 1.645  # Z-score for 5% VaR\n",
    "    cf_var5 = None\n",
    "\n",
    "    # Historical VaR (5%)\n",
    "    hist_var5 = -r.quantile(0.05)\n",
    "\n",
    "    # Conditional Value at Risk (CVaR)\n",
    "    cvar5 = None\n",
    "\n",
    "    # Sharpe Ratio assuming a risk-free rate of 0 for simplicity\n",
    "    sharpe_ratio = ann_r / ann_vol.replace(0, np.nan)  # Avoid division by zero by replacing 0 with NaN\n",
    "\n",
    "    # Maximum drawdown\n",
    "    cumulative = None #cumulative return\n",
    "    peak = cumulative.cummax()\n",
    "    max_dd = ((cumulative / peak) - 1).min()\n",
    "\n",
    "    # Compile results into a DataFrame\n",
    "    return pd.DataFrame({\n",
    "        \"Annualized Return\": ann_r,\n",
    "        \"Annualized Vol\": ann_vol,\n",
    "        \"Skewness\": skew,\n",
    "        \"Kurtosis\": kurt,\n",
    "        \"Cornish-Fisher VaR(5%)\": cf_var5,\n",
    "        \"Historic VaR(5%)\": hist_var5,\n",
    "        \"CVar(5%)\": cvar5,\n",
    "        \"Sharpe Ratio\": sharpe_ratio,\n",
    "        \"Max Drawdown\": max_dd\n",
    "    })\n",
    "\n",
    "\n"
   ]
  },
  {
   "cell_type": "code",
   "execution_count": null,
   "metadata": {
    "id": "irKiv752SJ6W"
   },
   "outputs": [],
   "source": [
    "# Display summary statistics for risky assets\n",
    "summary_stats(df_risky)\n",
    "\n",
    "#Note: The values for Steel are:\n",
    "#Annualized Return\tAnnualized Vol\tSkewness\tKurtosis\tCornish-Fisher VaR(5%)\tHistoric VaR(5%)\tCVar(5%)\tSharpe Ratio\tMax Drawdown\n",
    "#Steel\t-0.002790\t0.312368\t-0.328499\t1.196664\t-0.480687\t0.140580\t0.208117\t-0.008931\t-0.758017"
   ]
  },
  {
   "cell_type": "markdown",
   "metadata": {
    "id": "qF8SWEnqayP-"
   },
   "source": [
    "Great. You have already implemented CPPI and metrics to evaluate investment strategies. It is time to transform our strategy into a function that we can use whenever we want.\n",
    "\n",
    "##### **E6. Implement CPPI as a function**\n",
    "\n"
   ]
  },
  {
   "cell_type": "code",
   "execution_count": null,
   "metadata": {
    "id": "wXdi134oDRbW"
   },
   "outputs": [],
   "source": [
    "def run_cppi(risky_r,safe_r=None,m=3,start=1000,floor=0.8,riskfree_rate=0.03): #this is not an exercise, dont change this line\n",
    "    \"\"\"\n",
    "    Returns a basket of the CPPI strtaegy, given a set of returns for the risky asset\n",
    "    Returns a dictionary containing: Asset Value History, Risk Budget History, Risky weight history\n",
    "    \"\"\"\n",
    "    #set up the parameters\n",
    "    dates=None\n",
    "    n_steps=None\n",
    "    account_value=None\n",
    "    floor_value=None\n",
    "\n",
    "    #Check you are given correct data\n",
    "    if isinstance(risky_r,pd.Series):\n",
    "        risky_r=pd.DataFrame(risky_r,columns=[\"R\"])\n",
    "\n",
    "    #this considers no risk free asset\n",
    "    if safe_r is None: #this is not an exercise, dont change this line\n",
    "        safe_r=pd.DataFrame().reindex_like(risky_r)\n",
    "        safe_r.values[:]=riskfree_rate/12\n",
    "\n",
    "    #Now we set up no needed values for CPPi just for tracking the evolution of our variables\n",
    "    account_history=pd.DataFrame().reindex_like(risky_r)\n",
    "    cushion_history=pd.DataFrame().reindex_like(risky_r)\n",
    "    risky_w_history=pd.DataFrame().reindex_like(risky_r) #weights of the risky asset\n",
    "\n",
    "    #CPPI implementation\n",
    "    for step in range(n_steps):\n",
    "        cushion=None\n",
    "        risky_w=None\n",
    "        risky_w=None #usually we want to limit the allocation to the risky asset\n",
    "        risky_w=np.maximum(risky_w,0) #no short selling\n",
    "        safe_w=None\n",
    "        #Allocation:\n",
    "        risky_alloc=None\n",
    "        safe_alloc=None\n",
    "        #Update the account value for this time step:allocation in risky asset times it's return for that time, plus the same for the safe asset\n",
    "        account_value=None\n",
    "\n",
    "        #CPPI is done, we now look at the history and plot it\n",
    "        cushion_history.iloc[step]=None\n",
    "        account_history.iloc[step]=None\n",
    "        risky_w_history.iloc[step]=None\n",
    "        risky_wealth=start*(1+risky_r).cumprod()\n",
    "\n",
    "    #now we pack all our backtest info into a dictionary\n",
    "    backtest_result={\n",
    "                \"Wealth\": account_history,\n",
    "                \"Risky Wealth\": risky_wealth,\n",
    "                \"Risk Budget\": cushion_history,\n",
    "                \"Risky Allocation\": risky_w_history,\n",
    "                \"m\":m,\n",
    "                \"start\":start,\n",
    "                \"floor\":floor,\n",
    "                \"risky_r\":risky_r,\n",
    "                \"safe_r\":safe_r\n",
    "            }\n",
    "    return backtest_result\n"
   ]
  },
  {
   "cell_type": "markdown",
   "metadata": {
    "id": "XsF71umnbxFU"
   },
   "source": [
    "Apply CCPI to our df_risky and compute the summary statistics."
   ]
  },
  {
   "cell_type": "code",
   "execution_count": null,
   "metadata": {
    "id": "T6E6EIIfSdgx"
   },
   "outputs": [],
   "source": [
    "# Run CPPI\n",
    "btr = run_cppi(df_risky)\n",
    "\n",
    "#As CPPI returns account value, we need to compute returns:\n",
    "summary_stats(btr[\"Wealth\"].pct_change().dropna())\n",
    "\n",
    "#Note, for steel you should obtain\n",
    "#Annualized Return\tAnnualized Vol\tSkewness\tKurtosis\tCornish-Fisher VaR(5%)\tHistoric VaR(5%)\tCVar(5%)\tSharpe Ratio\tMax Drawdown\n",
    "#Steel\t-0.005167\t0.174180\t-2.008439\t14.452894\t-0.029848\t0.068080\t0.130153\t-0.029666\t-0.655198"
   ]
  },
  {
   "cell_type": "markdown",
   "metadata": {
    "id": "b7iyQMCfb5Ea"
   },
   "source": [
    "Compare the stats with and without applying CPPI."
   ]
  },
  {
   "cell_type": "markdown",
   "metadata": {
    "id": "LeiBQUicF5TS"
   },
   "source": [
    "\n",
    "\n",
    "You may have notice that CPPI introduces protection in the downside. Thus, we can improve our algorithm by introducing a more elaborated downside protection, for example, by using a drawdown constrain. Introducing a drawdown constraint limits the portfolio's risky asset exposure to prevent excessive losses. This enhances the CPPI strategy's effectiveness by dynamically adjusting risk-taking based on portfolio performance relative to the floor\n",
    "\n",
    "\n",
    "With a drawdown\n",
    "constraint our floor is not a static value anymore, but a dynamic value that changes over time. And the floor is updated with respect to the last peak we have seen.\n",
    "\n",
    "##### **E7. Update CPPI to introduce the drawdown constrain**"
   ]
  },
  {
   "cell_type": "code",
   "execution_count": null,
   "metadata": {
    "id": "DBWiMXlYGy0k"
   },
   "outputs": [],
   "source": [
    "def run_cppi(risky_r,safe_r=None,m=3,start=1000,floor=0.8,riskfree_rate=0.03,drawdown=None): #this is not an exercise, dont change this line\n",
    "    \"\"\"\n",
    "    Returns a basket of the CPPI strtaegy, given a set of returns for the risky asset\n",
    "    Returns a dictionary containing: Asset Value History, Risk Budget History, Risky weight history\n",
    "    \"\"\"\n",
    "    #set up the parameters\n",
    "    dates=None\n",
    "    n_steps=None\n",
    "    account_value=None\n",
    "    floor_value=None\n",
    "    peak=start #at the start, the start value is our peak\n",
    "\n",
    "    if isinstance(risky_r,pd.Series):\n",
    "        risky_r=pd.DataFrame(risky_r,columns=[\"R\"])\n",
    "\n",
    "\n",
    "    if safe_r is None: #this is not an exercise, dont change this line\n",
    "        safe_r=pd.DataFrame().reindex_like(risky_r)\n",
    "        safe_r.values[:]=riskfree_rate/12\n",
    "\n",
    "    #Now we set up no needed values for CPPi just for tracking the evolution of our variables\n",
    "    account_history=None\n",
    "    cushion_history=None\n",
    "    risky_w_history=None #weights of the risky asset\n",
    "\n",
    "    for step in range(n_steps):\n",
    "        #If there is no constrain, the peak value is just the\n",
    "        #maximum between the peak and account value\n",
    "        if drawdown is not None: #this is not an exercise, dont change this line\n",
    "            peak=np.maximum(peak,account_value)\n",
    "            floor_value= peak*(1-drawdown) #Our floor is with respect to the peaks\n",
    "\n",
    "        cushion=None\n",
    "        risky_w=None\n",
    "        risky_w=None #usually we want to limit the allocation to the risky asset\n",
    "        risky_w=None #no short\n",
    "        safe_w=None\n",
    "\n",
    "        #Allocation:\n",
    "        risky_alloc=None\n",
    "        safe_alloc=None\n",
    "\n",
    "        #Update the account value for this time step:allocation in risky asset times it's return for that time, plus the same for the safe asset\n",
    "        account_value=None\n",
    "\n",
    "        #CPPI is done, we now look at the history and plot it\n",
    "        cushion_history.iloc[step]=None\n",
    "        account_history.iloc[step]=None\n",
    "        risky_w_history.iloc[step]=None\n",
    "        risky_wealth=None #risky allocation\n",
    "\n",
    "    #now we pack all our backtest info into a dictionary\n",
    "    backtest_result={\n",
    "                \"Wealth\": account_history,\n",
    "                \"Risky Wealth\": risky_wealth,\n",
    "                \"Risk Budget\": cushion_history,\n",
    "                \"Risky Allocation\": risky_w_history,\n",
    "                \"m\":m,\n",
    "                \"start\":start,\n",
    "                \"floor\":floor,\n",
    "                \"risky_r\":risky_r,\n",
    "                \"safe_r\":safe_r\n",
    "            }\n",
    "    return backtest_result\n"
   ]
  },
  {
   "cell_type": "markdown",
   "metadata": {
    "id": "TWtbgUbKdxKR"
   },
   "source": [
    "Now, apply CPPI to the returns from 2007 with a drawdown constrain of 0.25, and compute the summary statistics."
   ]
  },
  {
   "cell_type": "code",
   "execution_count": null,
   "metadata": {
    "id": "ghqhcGRRZLUh"
   },
   "outputs": [],
   "source": [
    "btr=run_cppi(df_returns[\"2007\":][[\"Steel\",\"Fin\",\"Beer\"]],drawdown=0.25)\n",
    "ax=btr[\"Wealth\"].plot(figsize=(12,6))\n",
    "btr[\"Risky Wealth\"].plot(ax=ax,style=\"--\",label=\"Total Market Risky Wealth\")\n",
    "plt.legend()\n",
    "plt.show()"
   ]
  },
  {
   "cell_type": "code",
   "execution_count": null,
   "metadata": {
    "id": "ZG4lnf0_ZTrX"
   },
   "outputs": [],
   "source": [
    "summary_stats(btr[\"Risky Wealth\"].pct_change().dropna())\n",
    "#Annualized Return\tAnnualized Vol\tSkewness\tKurtosis\tCornish-Fisher VaR(5%)\tHistoric VaR(5%)\tCVar(5%)\tSharpe Ratio\tMax Drawdown\n",
    "#Steel\t-0.039660\t0.306407\t-0.464841\t1.889933\t-0.406983\t0.13198\t0.203837\t-0.129435\t-0.758017"
   ]
  },
  {
   "cell_type": "code",
   "execution_count": null,
   "metadata": {
    "colab": {
     "base_uri": "https://localhost:8080/",
     "height": 143
    },
    "id": "uBvMoDaBFMaI",
    "outputId": "812cb4a0-52f8-4d03-c8b8-8cba921421c9"
   },
   "outputs": [
    {
     "data": {
      "application/vnd.google.colaboratory.intrinsic+json": {
       "summary": "{\n  \"name\": \"summary_stats(btr[\\\"Wealth\\\"]\",\n  \"rows\": 3,\n  \"fields\": [\n    {\n      \"column\": \"Annualized Return\",\n      \"properties\": {\n        \"dtype\": \"number\",\n        \"std\": 0.04031390699904614,\n        \"min\": 0.003783859342968654,\n        \"max\": 0.08437503878052532,\n        \"num_unique_values\": 3,\n        \"samples\": [\n          0.003783859342968654,\n          0.04197477801123073,\n          0.08437503878052532\n        ],\n        \"semantic_type\": \"\",\n        \"description\": \"\"\n      }\n    },\n    {\n      \"column\": \"Annualized Vol\",\n      \"properties\": {\n        \"dtype\": \"number\",\n        \"std\": 0.006626438894664562,\n        \"min\": 0.08502837136083174,\n        \"max\": 0.0970731344211084,\n        \"num_unique_values\": 3,\n        \"samples\": [\n          0.0970731344211084,\n          0.08502837136083174,\n          0.08626307710928685\n        ],\n        \"semantic_type\": \"\",\n        \"description\": \"\"\n      }\n    },\n    {\n      \"column\": \"Skewness\",\n      \"properties\": {\n        \"dtype\": \"number\",\n        \"std\": 0.2064950580838832,\n        \"min\": -0.7520226744012779,\n        \"max\": -0.3589392007264836,\n        \"num_unique_values\": 3,\n        \"samples\": [\n          -0.44577832099519155,\n          -0.3589392007264836,\n          -0.7520226744012779\n        ],\n        \"semantic_type\": \"\",\n        \"description\": \"\"\n      }\n    },\n    {\n      \"column\": \"Kurtosis\",\n      \"properties\": {\n        \"dtype\": \"number\",\n        \"std\": 0.5567504101556379,\n        \"min\": 1.2384057154420889,\n        \"max\": 2.34328258070469,\n        \"num_unique_values\": 3,\n        \"samples\": [\n          2.34328258070469,\n          1.2384057154420889,\n          1.671059374078406\n        ],\n        \"semantic_type\": \"\",\n        \"description\": \"\"\n      }\n    },\n    {\n      \"column\": \"Cornish-Fisher VaR(5%)\",\n      \"properties\": {\n        \"dtype\": \"number\",\n        \"std\": 0.026742861796151852,\n        \"min\": -0.1982237828517082,\n        \"max\": -0.14474438841704373,\n        \"num_unique_values\": 3,\n        \"samples\": [\n          -0.14474438841704373,\n          -0.17219665094395806,\n          -0.1982237828517082\n        ],\n        \"semantic_type\": \"\",\n        \"description\": \"\"\n      }\n    },\n    {\n      \"column\": \"Historic VaR(5%)\",\n      \"properties\": {\n        \"dtype\": \"number\",\n        \"std\": 0.006233095068613576,\n        \"min\": 0.031027488723402896,\n        \"max\": 0.04344375293627512,\n        \"num_unique_values\": 3,\n        \"samples\": [\n          0.04344375293627512,\n          0.0382008719112867,\n          0.031027488723402896\n        ],\n        \"semantic_type\": \"\",\n        \"description\": \"\"\n      }\n    },\n    {\n      \"column\": \"CVar(5%)\",\n      \"properties\": {\n        \"dtype\": \"number\",\n        \"std\": 0.008407512566180941,\n        \"min\": 0.05118852638565713,\n        \"max\": 0.0669905443915683,\n        \"num_unique_values\": 3,\n        \"samples\": [\n          0.0669905443915683,\n          0.054111486287095584,\n          0.05118852638565713\n        ],\n        \"semantic_type\": \"\",\n        \"description\": \"\"\n      }\n    },\n    {\n      \"column\": \"Sharpe Ratio\",\n      \"properties\": {\n        \"dtype\": \"number\",\n        \"std\": 0.46964546275280633,\n        \"min\": 0.038979470123567575,\n        \"max\": 0.9781130190107922,\n        \"num_unique_values\": 3,\n        \"samples\": [\n          0.038979470123567575,\n          0.49365614487785403,\n          0.9781130190107922\n        ],\n        \"semantic_type\": \"\",\n        \"description\": \"\"\n      }\n    },\n    {\n      \"column\": \"Max Drawdown\",\n      \"properties\": {\n        \"dtype\": \"number\",\n        \"std\": 0.04892687159728307,\n        \"min\": -0.24805914859241263,\n        \"max\": -0.16118578293683405,\n        \"num_unique_values\": 3,\n        \"samples\": [\n          -0.24805914859241263,\n          -0.24362605595379927,\n          -0.16118578293683405\n        ],\n        \"semantic_type\": \"\",\n        \"description\": \"\"\n      }\n    }\n  ]\n}",
       "type": "dataframe"
      },
      "text/html": [
       "\n",
       "  <div id=\"df-7767fdb6-6338-4d82-a6dc-5d12076934b9\" class=\"colab-df-container\">\n",
       "    <div>\n",
       "<style scoped>\n",
       "    .dataframe tbody tr th:only-of-type {\n",
       "        vertical-align: middle;\n",
       "    }\n",
       "\n",
       "    .dataframe tbody tr th {\n",
       "        vertical-align: top;\n",
       "    }\n",
       "\n",
       "    .dataframe thead th {\n",
       "        text-align: right;\n",
       "    }\n",
       "</style>\n",
       "<table border=\"1\" class=\"dataframe\">\n",
       "  <thead>\n",
       "    <tr style=\"text-align: right;\">\n",
       "      <th></th>\n",
       "      <th>Annualized Return</th>\n",
       "      <th>Annualized Vol</th>\n",
       "      <th>Skewness</th>\n",
       "      <th>Kurtosis</th>\n",
       "      <th>Cornish-Fisher VaR(5%)</th>\n",
       "      <th>Historic VaR(5%)</th>\n",
       "      <th>CVar(5%)</th>\n",
       "      <th>Sharpe Ratio</th>\n",
       "      <th>Max Drawdown</th>\n",
       "    </tr>\n",
       "  </thead>\n",
       "  <tbody>\n",
       "    <tr>\n",
       "      <th>Steel</th>\n",
       "      <td>0.003784</td>\n",
       "      <td>0.097073</td>\n",
       "      <td>-0.445778</td>\n",
       "      <td>2.343283</td>\n",
       "      <td>-0.144744</td>\n",
       "      <td>0.043444</td>\n",
       "      <td>0.066991</td>\n",
       "      <td>0.038979</td>\n",
       "      <td>-0.248059</td>\n",
       "    </tr>\n",
       "    <tr>\n",
       "      <th>Fin</th>\n",
       "      <td>0.041975</td>\n",
       "      <td>0.085028</td>\n",
       "      <td>-0.358939</td>\n",
       "      <td>1.238406</td>\n",
       "      <td>-0.172197</td>\n",
       "      <td>0.038201</td>\n",
       "      <td>0.054111</td>\n",
       "      <td>0.493656</td>\n",
       "      <td>-0.243626</td>\n",
       "    </tr>\n",
       "    <tr>\n",
       "      <th>Beer</th>\n",
       "      <td>0.084375</td>\n",
       "      <td>0.086263</td>\n",
       "      <td>-0.752023</td>\n",
       "      <td>1.671059</td>\n",
       "      <td>-0.198224</td>\n",
       "      <td>0.031027</td>\n",
       "      <td>0.051189</td>\n",
       "      <td>0.978113</td>\n",
       "      <td>-0.161186</td>\n",
       "    </tr>\n",
       "  </tbody>\n",
       "</table>\n",
       "</div>\n",
       "    <div class=\"colab-df-buttons\">\n",
       "\n",
       "  <div class=\"colab-df-container\">\n",
       "    <button class=\"colab-df-convert\" onclick=\"convertToInteractive('df-7767fdb6-6338-4d82-a6dc-5d12076934b9')\"\n",
       "            title=\"Convert this dataframe to an interactive table.\"\n",
       "            style=\"display:none;\">\n",
       "\n",
       "  <svg xmlns=\"http://www.w3.org/2000/svg\" height=\"24px\" viewBox=\"0 -960 960 960\">\n",
       "    <path d=\"M120-120v-720h720v720H120Zm60-500h600v-160H180v160Zm220 220h160v-160H400v160Zm0 220h160v-160H400v160ZM180-400h160v-160H180v160Zm440 0h160v-160H620v160ZM180-180h160v-160H180v160Zm440 0h160v-160H620v160Z\"/>\n",
       "  </svg>\n",
       "    </button>\n",
       "\n",
       "  <style>\n",
       "    .colab-df-container {\n",
       "      display:flex;\n",
       "      gap: 12px;\n",
       "    }\n",
       "\n",
       "    .colab-df-convert {\n",
       "      background-color: #E8F0FE;\n",
       "      border: none;\n",
       "      border-radius: 50%;\n",
       "      cursor: pointer;\n",
       "      display: none;\n",
       "      fill: #1967D2;\n",
       "      height: 32px;\n",
       "      padding: 0 0 0 0;\n",
       "      width: 32px;\n",
       "    }\n",
       "\n",
       "    .colab-df-convert:hover {\n",
       "      background-color: #E2EBFA;\n",
       "      box-shadow: 0px 1px 2px rgba(60, 64, 67, 0.3), 0px 1px 3px 1px rgba(60, 64, 67, 0.15);\n",
       "      fill: #174EA6;\n",
       "    }\n",
       "\n",
       "    .colab-df-buttons div {\n",
       "      margin-bottom: 4px;\n",
       "    }\n",
       "\n",
       "    [theme=dark] .colab-df-convert {\n",
       "      background-color: #3B4455;\n",
       "      fill: #D2E3FC;\n",
       "    }\n",
       "\n",
       "    [theme=dark] .colab-df-convert:hover {\n",
       "      background-color: #434B5C;\n",
       "      box-shadow: 0px 1px 3px 1px rgba(0, 0, 0, 0.15);\n",
       "      filter: drop-shadow(0px 1px 2px rgba(0, 0, 0, 0.3));\n",
       "      fill: #FFFFFF;\n",
       "    }\n",
       "  </style>\n",
       "\n",
       "    <script>\n",
       "      const buttonEl =\n",
       "        document.querySelector('#df-7767fdb6-6338-4d82-a6dc-5d12076934b9 button.colab-df-convert');\n",
       "      buttonEl.style.display =\n",
       "        google.colab.kernel.accessAllowed ? 'block' : 'none';\n",
       "\n",
       "      async function convertToInteractive(key) {\n",
       "        const element = document.querySelector('#df-7767fdb6-6338-4d82-a6dc-5d12076934b9');\n",
       "        const dataTable =\n",
       "          await google.colab.kernel.invokeFunction('convertToInteractive',\n",
       "                                                    [key], {});\n",
       "        if (!dataTable) return;\n",
       "\n",
       "        const docLinkHtml = 'Like what you see? Visit the ' +\n",
       "          '<a target=\"_blank\" href=https://colab.research.google.com/notebooks/data_table.ipynb>data table notebook</a>'\n",
       "          + ' to learn more about interactive tables.';\n",
       "        element.innerHTML = '';\n",
       "        dataTable['output_type'] = 'display_data';\n",
       "        await google.colab.output.renderOutput(dataTable, element);\n",
       "        const docLink = document.createElement('div');\n",
       "        docLink.innerHTML = docLinkHtml;\n",
       "        element.appendChild(docLink);\n",
       "      }\n",
       "    </script>\n",
       "  </div>\n",
       "\n",
       "\n",
       "<div id=\"df-088c99ea-43aa-43ff-8bbf-b7842e3ca19c\">\n",
       "  <button class=\"colab-df-quickchart\" onclick=\"quickchart('df-088c99ea-43aa-43ff-8bbf-b7842e3ca19c')\"\n",
       "            title=\"Suggest charts\"\n",
       "            style=\"display:none;\">\n",
       "\n",
       "<svg xmlns=\"http://www.w3.org/2000/svg\" height=\"24px\"viewBox=\"0 0 24 24\"\n",
       "     width=\"24px\">\n",
       "    <g>\n",
       "        <path d=\"M19 3H5c-1.1 0-2 .9-2 2v14c0 1.1.9 2 2 2h14c1.1 0 2-.9 2-2V5c0-1.1-.9-2-2-2zM9 17H7v-7h2v7zm4 0h-2V7h2v10zm4 0h-2v-4h2v4z\"/>\n",
       "    </g>\n",
       "</svg>\n",
       "  </button>\n",
       "\n",
       "<style>\n",
       "  .colab-df-quickchart {\n",
       "      --bg-color: #E8F0FE;\n",
       "      --fill-color: #1967D2;\n",
       "      --hover-bg-color: #E2EBFA;\n",
       "      --hover-fill-color: #174EA6;\n",
       "      --disabled-fill-color: #AAA;\n",
       "      --disabled-bg-color: #DDD;\n",
       "  }\n",
       "\n",
       "  [theme=dark] .colab-df-quickchart {\n",
       "      --bg-color: #3B4455;\n",
       "      --fill-color: #D2E3FC;\n",
       "      --hover-bg-color: #434B5C;\n",
       "      --hover-fill-color: #FFFFFF;\n",
       "      --disabled-bg-color: #3B4455;\n",
       "      --disabled-fill-color: #666;\n",
       "  }\n",
       "\n",
       "  .colab-df-quickchart {\n",
       "    background-color: var(--bg-color);\n",
       "    border: none;\n",
       "    border-radius: 50%;\n",
       "    cursor: pointer;\n",
       "    display: none;\n",
       "    fill: var(--fill-color);\n",
       "    height: 32px;\n",
       "    padding: 0;\n",
       "    width: 32px;\n",
       "  }\n",
       "\n",
       "  .colab-df-quickchart:hover {\n",
       "    background-color: var(--hover-bg-color);\n",
       "    box-shadow: 0 1px 2px rgba(60, 64, 67, 0.3), 0 1px 3px 1px rgba(60, 64, 67, 0.15);\n",
       "    fill: var(--button-hover-fill-color);\n",
       "  }\n",
       "\n",
       "  .colab-df-quickchart-complete:disabled,\n",
       "  .colab-df-quickchart-complete:disabled:hover {\n",
       "    background-color: var(--disabled-bg-color);\n",
       "    fill: var(--disabled-fill-color);\n",
       "    box-shadow: none;\n",
       "  }\n",
       "\n",
       "  .colab-df-spinner {\n",
       "    border: 2px solid var(--fill-color);\n",
       "    border-color: transparent;\n",
       "    border-bottom-color: var(--fill-color);\n",
       "    animation:\n",
       "      spin 1s steps(1) infinite;\n",
       "  }\n",
       "\n",
       "  @keyframes spin {\n",
       "    0% {\n",
       "      border-color: transparent;\n",
       "      border-bottom-color: var(--fill-color);\n",
       "      border-left-color: var(--fill-color);\n",
       "    }\n",
       "    20% {\n",
       "      border-color: transparent;\n",
       "      border-left-color: var(--fill-color);\n",
       "      border-top-color: var(--fill-color);\n",
       "    }\n",
       "    30% {\n",
       "      border-color: transparent;\n",
       "      border-left-color: var(--fill-color);\n",
       "      border-top-color: var(--fill-color);\n",
       "      border-right-color: var(--fill-color);\n",
       "    }\n",
       "    40% {\n",
       "      border-color: transparent;\n",
       "      border-right-color: var(--fill-color);\n",
       "      border-top-color: var(--fill-color);\n",
       "    }\n",
       "    60% {\n",
       "      border-color: transparent;\n",
       "      border-right-color: var(--fill-color);\n",
       "    }\n",
       "    80% {\n",
       "      border-color: transparent;\n",
       "      border-right-color: var(--fill-color);\n",
       "      border-bottom-color: var(--fill-color);\n",
       "    }\n",
       "    90% {\n",
       "      border-color: transparent;\n",
       "      border-bottom-color: var(--fill-color);\n",
       "    }\n",
       "  }\n",
       "</style>\n",
       "\n",
       "  <script>\n",
       "    async function quickchart(key) {\n",
       "      const quickchartButtonEl =\n",
       "        document.querySelector('#' + key + ' button');\n",
       "      quickchartButtonEl.disabled = true;  // To prevent multiple clicks.\n",
       "      quickchartButtonEl.classList.add('colab-df-spinner');\n",
       "      try {\n",
       "        const charts = await google.colab.kernel.invokeFunction(\n",
       "            'suggestCharts', [key], {});\n",
       "      } catch (error) {\n",
       "        console.error('Error during call to suggestCharts:', error);\n",
       "      }\n",
       "      quickchartButtonEl.classList.remove('colab-df-spinner');\n",
       "      quickchartButtonEl.classList.add('colab-df-quickchart-complete');\n",
       "    }\n",
       "    (() => {\n",
       "      let quickchartButtonEl =\n",
       "        document.querySelector('#df-088c99ea-43aa-43ff-8bbf-b7842e3ca19c button');\n",
       "      quickchartButtonEl.style.display =\n",
       "        google.colab.kernel.accessAllowed ? 'block' : 'none';\n",
       "    })();\n",
       "  </script>\n",
       "</div>\n",
       "\n",
       "    </div>\n",
       "  </div>\n"
      ],
      "text/plain": [
       "       Annualized Return  Annualized Vol  Skewness  Kurtosis  \\\n",
       "Steel           0.003784        0.097073 -0.445778  2.343283   \n",
       "Fin             0.041975        0.085028 -0.358939  1.238406   \n",
       "Beer            0.084375        0.086263 -0.752023  1.671059   \n",
       "\n",
       "       Cornish-Fisher VaR(5%)  Historic VaR(5%)  CVar(5%)  Sharpe Ratio  \\\n",
       "Steel               -0.144744          0.043444  0.066991      0.038979   \n",
       "Fin                 -0.172197          0.038201  0.054111      0.493656   \n",
       "Beer                -0.198224          0.031027  0.051189      0.978113   \n",
       "\n",
       "       Max Drawdown  \n",
       "Steel     -0.248059  \n",
       "Fin       -0.243626  \n",
       "Beer      -0.161186  "
      ]
     },
     "execution_count": 72,
     "metadata": {},
     "output_type": "execute_result"
    }
   ],
   "source": [
    "summary_stats(btr[\"Wealth\"].pct_change().dropna())"
   ]
  },
  {
   "cell_type": "markdown",
   "metadata": {
    "id": "cu_kY4iNHfO0"
   },
   "source": [
    "As you can see there's an important dif\n",
    "ference in the Drawdowns. Now, this was because we were updating the\n",
    "floor every month, in practice you would want to save trading costs, so there are other tools that can be added to\n",
    "this.\n",
    "\n",
    "Another question is, what happens when we vary the drawdown constrain level?"
   ]
  },
  {
   "cell_type": "markdown",
   "metadata": {
    "id": "EIOMlZlseRHD"
   },
   "source": [
    "##### **R1. Choose three industries and perform a risky allocation strategy. Analyze the risk-return statistics of this strategy. Apply CPPI without drawdown constrain. Analyze the evolution of the weights and cushion and explain what you see. Analyze the protection of CPPI to downside risk. Is there any relevant protection or oportunity cost identified? Analyze the risk-return. Apply CPPI with 10%, 20%, and 30% of drawdown constrain. Calculate summary statistics for each of these different drawdown constraints to see how they influence the CPPI strategy’s risk-return profile. Analyze the results fo the strategy, explain how they influence the CPPI strategy’s risk-return profile. Finally, explain the results and compare the five portfolio allocation strategies you have created. Which one would you recommend for each industry and why? Explain any interesting observation, the effect of CPPI, its pros and cons and the effect of the drawdown constrains.**\n",
    "\n"
   ]
  },
  {
   "cell_type": "markdown",
   "metadata": {
    "id": "4FrPHA0kIEm4"
   },
   "source": [
    "This completes a thorough analysis of the CPPI strategy with drawdown constraints, applied to different assets, including the total market index. This allows you to compare how each asset class behaves under varying levels of risk control, helping you to make informed conclusions about the effectiveness of CPPI in diverse market conditions."
   ]
  },
  {
   "cell_type": "markdown",
   "metadata": {
    "id": "uON5WJAfIQU3"
   },
   "source": [
    "## 2 Random Walks and Asset Simulation"
   ]
  },
  {
   "cell_type": "markdown",
   "metadata": {
    "id": "OuWIAbPAJQ5Q"
   },
   "source": [
    "So far our portfolio constructions and strategies have been based on backtesting, i.e. we implemented all these techniques to past values to see what would had happened if we had used these strategies. But when dealing with investment portfolios the real question is not what would had happened but what will happen, because investing is not just about backward analysis but also about forward predictions. For example, CPPI is not valuable for the protection it could had given but for the protection it gives us for future downside risks. Thus, the task is now how to apply these strategies for future movements in assets.\n",
    "\n",
    "Geometric Brownian Motion is widely used to model the evolution of assets and stock prices over time. In this model, the stock price $S_t$ at time $t$ is given by:\n",
    "\n",
    "$$\n",
    "S_t = S_0 \\cdot \\prod_{i=1}^{t} (1 + r_i)\n",
    "$$\n",
    "\n",
    "where:\n",
    "- $S_0$ is the initial stock price,\n",
    "- $r_i$ is the return at each time step i,\n",
    "- and the product is taken over each incremental return up to time t.\n",
    "\n",
    "The returns $r_i$ are typically assumed to follow a normal distribution, which allows us to model randomness in stock prices. Specifically:\n",
    "\n",
    "$$\n",
    "r_i = \\mu \\cdot \\Delta t + \\sigma \\cdot \\sqrt{\\Delta t} \\cdot \\xi_i\n",
    "$$\n",
    "\n",
    "where:\n",
    "- $\\mu$ is the expected (average) return of the stock,\n",
    "- $\\sigma$ is the volatility (standard deviation) of the stock returns,\n",
    "- $\\Delta t$ is the time increment (e.g., $\\frac{1}{12}$ for monthly steps),\n",
    "- $\\xi_i$ is a standard normal random variable, $\\xi_i \\sim N(0, 1) $\\, representing randomness in the return.\n",
    "\n",
    "Thus, to implement the GBM model you need to define this questities, simulate a normal variable and then just apply the formula.\n",
    "\n",
    "##### **E8. Implement GBM**\n",
    "\n",
    "\n"
   ]
  },
  {
   "cell_type": "code",
   "execution_count": null,
   "metadata": {
    "id": "vuHXgP3ZJQni"
   },
   "outputs": [],
   "source": [
    "def gbm0(n_years=10, n_scenarios=1000, mu=0.07, sigma=0.15, steps_per_year=12, s_0=100.0):\n",
    "    \"\"\"\n",
    "    Evolution of a Stock Price using GBM (Geometric Brownian Motion)\n",
    "    \"\"\"\n",
    "    dt = None #step size\n",
    "    n_steps = int(n_years * steps_per_year)\n",
    "    xi = np.random.normal(size=(n_steps, n_scenarios))  # Generate random returns\n",
    "    rets = None  # Apply the GBM to calculate returns for each step\n",
    "    rets = pd.DataFrame(rets)\n",
    "    prices = s_0 * (1 + rets).cumprod()  # Calculate prices by cumulative product\n",
    "    return prices"
   ]
  },
  {
   "cell_type": "markdown",
   "metadata": {
    "id": "Pa6gZeW9jNOD"
   },
   "source": [
    "Now, generate 3 scenarios for a stock price for 10 years."
   ]
  },
  {
   "cell_type": "code",
   "execution_count": null,
   "metadata": {
    "id": "OqSi6pNcaY9T"
   },
   "outputs": [],
   "source": [
    "# Generate sample data with gbm0\n",
    "p = gbm0(n_years=10, n_scenarios=3)\n",
    "print(p.head())\n",
    "\n",
    "# Plot the results\n",
    "p.plot(figsize=(12, 6),legend=False)\n",
    "plt.title(\"Geometric Brownian Motion (Basic Implementation)\")\n",
    "plt.show()"
   ]
  },
  {
   "cell_type": "markdown",
   "metadata": {
    "id": "OVXh2Rsvjcd1"
   },
   "source": [
    "##### **E9. Simulate 100 scenarios for 10 years.**"
   ]
  },
  {
   "cell_type": "code",
   "execution_count": null,
   "metadata": {
    "id": "RB4OOO07adTC"
   },
   "outputs": [],
   "source": [
    "None"
   ]
  },
  {
   "cell_type": "markdown",
   "metadata": {
    "id": "Re_1MbnZMGYQ"
   },
   "source": [
    "The following section is optional and not neccesary for the essential results of the following section, however, you are encouraged to solve it.\n",
    "\n",
    "##### Optimized Formulation and Interactive Simulation (OPTIONAL)\n",
    "\n",
    "In our optimized GBM function, we calculate returns directly in a way that avoids explicit loops. We generate values for \\( $1 + r_i$ \\) using:\n",
    "\n",
    "$$\n",
    "1 + r_i = 1 + \\mu \\cdot \\Delta t + \\sigma \\cdot \\sqrt{\\Delta t} \\cdot \\xi_i\n",
    "$$\n",
    "\n",
    "This can be generated directly using:\n",
    "\n",
    "$$\n",
    "\\text{rets_plus_1} = \\text{np.random.normal}(\\text{loc}=1 + \\mu \\cdot \\Delta t, \\text{scale}=\\sigma \\cdot \\sqrt{\\Delta t}, \\text{size}=(\\text{n_steps}, \\text{n_scenarios}))\n",
    "$$\n",
    "\n",
    "Here:\n",
    "- **loc** (mean) is set to \\( $1 + \\mu \\cdot \\Delta t$ \\),\n",
    "- **scale** (standard deviation) is set to \\( $\\sigma \\cdot \\sqrt{\\Delta t}$ \\).\n",
    "\n",
    "The stock prices \\( $S_t$ \\) for each scenario are then computed as the cumulative product of these adjusted returns:\n",
    "\n",
    "$$\n",
    "S_t = S_0 \\cdot \\prod_{i=1}^{t} \\text{rets_plus_1}_i\n",
    "$$\n",
    "\n",
    "This approach efficiently models the evolution of stock prices over time, capturing both the drift (expected return) and the volatility."
   ]
  },
  {
   "cell_type": "markdown",
   "metadata": {
    "id": "ThcdXJujLkhL"
   },
   "source": [
    "The next function, gbm, is an optimized version of gbm0, which uses vectorization for faster computation. Instead of calculating returns and adding 1 to each element in a loop, it directly generates the adjusted return values."
   ]
  },
  {
   "cell_type": "code",
   "execution_count": null,
   "metadata": {
    "id": "rMc999Oz4H2H"
   },
   "outputs": [],
   "source": [
    "def gbm(n_years=10, n_scenarios=1000, mu=0.07, sigma=0.15, steps_per_year=12, s_0=100.0):\n",
    "    \"\"\"\n",
    "    Optimized Evolution of a Stock Price using GBM\n",
    "    \"\"\"\n",
    "    dt = None\n",
    "    n_steps = None\n",
    "    rets_plus_1 = np.random.normal(loc=1 + mu * dt, scale=sigma * np.sqrt(dt), size=(n_steps, n_scenarios))\n",
    "    prices = s_0 * pd.DataFrame(rets_plus_1).cumprod()  # Optimized cumulative product calculation\n",
    "    return prices"
   ]
  },
  {
   "cell_type": "code",
   "execution_count": null,
   "metadata": {
    "id": "Klj_tOF1zRUF"
   },
   "outputs": [],
   "source": [
    "# Apply the optimized GBM function\n",
    "p_optimized = gbm(n_years=10, n_scenarios=100)\n",
    "\n",
    "# Plot the optimized results\n",
    "p_optimized.plot(figsize=(12, 6), legend=False)\n",
    "plt.title(\"Optimized Geometric Brownian Motion\")\n",
    "plt.show()"
   ]
  },
  {
   "cell_type": "markdown",
   "metadata": {
    "id": "W-MlhnYKkVGf"
   },
   "source": [
    "If the improvement is not clear, run the following cell to compute the time it takes to run each GBM implementation."
   ]
  },
  {
   "cell_type": "code",
   "execution_count": null,
   "metadata": {
    "id": "3sYbz-cLe_L9"
   },
   "outputs": [],
   "source": [
    "# Compare performance\n",
    "%timeit gbm0(n_years=5, n_scenarios=1000)\n",
    "%timeit gbm(n_years=5, n_scenarios=1000)"
   ]
  },
  {
   "cell_type": "markdown",
   "metadata": {
    "id": "6U2zxs9CL-TW"
   },
   "source": [
    "The last refinement ensures that the simulated stock prices start exactly at the initial value s_0 for all scenarios by setting the first row to 1 in rets_plus_1."
   ]
  },
  {
   "cell_type": "code",
   "execution_count": null,
   "metadata": {
    "id": "VaAsa5cHBmjE"
   },
   "outputs": [],
   "source": [
    "def gbm(n_years=10, n_scenarios=1000, mu=0.07, sigma=0.15, steps_per_year=12, s_0=100.0):\n",
    "    \"\"\"\n",
    "    Final Evolution of a Stock Price using GBM, ensuring initial value starts at s_0.\n",
    "    \"\"\"\n",
    "    dt = 1 / steps_per_year\n",
    "    n_steps = int(n_years * steps_per_year)\n",
    "    rets_plus_1 = np.random.normal(loc=1 + mu * dt, scale=sigma * np.sqrt(dt), size=(n_steps, n_scenarios))\n",
    "    rets_plus_1[0] = 1  # Start all scenarios at s_0\n",
    "    prices = s_0 * pd.DataFrame(rets_plus_1).cumprod()\n",
    "    return prices"
   ]
  },
  {
   "cell_type": "code",
   "execution_count": null,
   "metadata": {
    "id": "LHt2g4P7e5-T"
   },
   "outputs": [],
   "source": [
    "gbm(n_years=10,n_scenarios=1000).plot(legend=False)"
   ]
  },
  {
   "cell_type": "markdown",
   "metadata": {
    "id": "hAf02ym8Myyk"
   },
   "source": [
    "Now, we can use GBM to simulate assets and then apply CPPI.\n",
    "\n",
    "##### **E10. Define a function show_cppi to run a Monte Carlo simulation of the CPPI strategy. This function uses simulated risky asset returns generated by the gbm function assuming an initial investment of 100. For the simulation, use n_scenarios=50, mu=0.07, sigma=0.15, m=3, floor=0.0, riskfree_rate=0.03**"
   ]
  },
  {
   "cell_type": "code",
   "execution_count": null,
   "metadata": {
    "id": "oZGf4jAIMJQE"
   },
   "outputs": [],
   "source": [
    "def show_cppi(n_scenarios=50, mu=0.07, sigma=0.15, m=3, floor=0.0, riskfree_rate=0.03, y_max=100):\n",
    "    \"\"\"\n",
    "    Plots the result of a Monte Carlo Simulation of CPPI, including a histogram of terminal wealth.\n",
    "    \"\"\"\n",
    "    start = None\n",
    "    sim_rets = gbm(None)\n",
    "    risky_r = pd.DataFrame(sim_rets.pct_change().dropna())\n",
    "\n",
    "    # Run CPPI back-test\n",
    "    btr = run_cppi(risky_r=None, riskfree_rate=None, m=None, start=None, floor=floor)\n",
    "    wealth = btr[\"Wealth\"]\n",
    "\n",
    "    # Calculate terminal wealth stats\n",
    "    y_max = wealth.values.max() * y_max / 100\n",
    "    terminal_wealth = wealth.iloc[-1]\n",
    "\n",
    "    # Plot wealth evolution and terminal wealth histogram\n",
    "    fig, (wealth_ax, hist_ax) = plt.subplots(nrows=1, ncols=2, sharey=True, gridspec_kw={'width_ratios': [3, 2]}, figsize=(24, 9))\n",
    "    plt.subplots_adjust(wspace=0.0)\n",
    "\n",
    "    # Plot wealth evolution\n",
    "    wealth.plot(ax=wealth_ax, legend=False, alpha=0.3, color=\"indianred\") #dont change this line\n",
    "    wealth_ax.axhline(y=start, ls=\":\", color=\"black\")\n",
    "    wealth_ax.axhline(y=start * floor, ls=\"--\", color=\"red\")\n",
    "    wealth_ax.set_ylim(top=y_max)\n",
    "\n",
    "    # Plot terminal wealth histogram\n",
    "    terminal_wealth.plot.hist(ax=hist_ax, bins=50, ec='w', fc='indianred', orientation='horizontal')\n",
    "    hist_ax.axhline(y=start, ls=\":\", color=\"black\")\n",
    "    plt.title(\"Monte Carlo Simulation of CPPI Strategy with Terminal Wealth Distribution\")\n",
    "    plt.show()\n"
   ]
  },
  {
   "cell_type": "code",
   "execution_count": null,
   "metadata": {
    "id": "kokquZ2TdJOm"
   },
   "outputs": [],
   "source": [
    "#Perform the simulation\n",
    "None"
   ]
  },
  {
   "cell_type": "markdown",
   "metadata": {
    "id": "o0oEstbZNMEC"
   },
   "source": [
    "##### **E11. Enhance show_cppi by including a histogram of terminal wealth at the end of the simulation. This histogram shows the distribution of outcomes across different scenarios. Also, include  additional statistics, such as mean, median, the probability of falling below the floor, and expected shortfall if the floor is violated.**"
   ]
  },
  {
   "cell_type": "code",
   "execution_count": null,
   "metadata": {
    "id": "uHKZIlsIBmZn"
   },
   "outputs": [],
   "source": [
    "def show_cppi(n_scenarios=50, mu=0.07, sigma=0.15, m=3, floor=0.0, riskfree_rate=0.03, y_max=100):\n",
    "    \"\"\"\n",
    "    Plots the result of a Monte Carlo Simulation of CPPI, including terminal wealth stats.\n",
    "    \"\"\"\n",
    "    start = None\n",
    "    sim_rets = None\n",
    "    risky_r = None\n",
    "\n",
    "    # Run CPPI back-test\n",
    "    btr = None\n",
    "    wealth = None\n",
    "    terminal_wealth = wealth.iloc[-1]\n",
    "\n",
    "    # Calculate terminal wealth stats\n",
    "    y_max = None\n",
    "    tw_mean = terminal_wealth.mean() #compute mean\n",
    "    tw_median = None #compute median\n",
    "    failure_mask = terminal_wealth < start * floor #this shows when the floor was violated\n",
    "    n_failures = None.sum() #sum the number of violations\n",
    "    p_fail = None #the probability of violating the floor, which is the number of violation over the number of total scenarios\n",
    "    e_shortfall = (terminal_wealth - start * floor)[failure_mask].mean() if n_failures > 0 else 0.0 #expected shortfall\n",
    "\n",
    "    # Plot wealth evolution and terminal wealth histogram\n",
    "    None\n",
    "\n",
    "    # Plot wealth evolution\n",
    "    None\n",
    "\n",
    "    # Plot terminal wealth histogram\n",
    "    None\n",
    "\n",
    "    # Annotate statistics\n",
    "    hist_ax.annotate(f\"Mean: ${int(tw_mean)}\", xy=(0.7, 0.9), xycoords='axes fraction', fontsize=24)\n",
    "    hist_ax.annotate(f\"Median: ${int(tw_median)}\", xy=(0.7, 0.85), xycoords='axes fraction', fontsize=24)\n",
    "    if floor > 0.01:\n",
    "        hist_ax.axhline(y=start * floor, ls=\"--\", color=\"red\", linewidth=3)\n",
    "        hist_ax.annotate(f\"Violations: {n_failures} ({p_fail*100:.2f}%)\\nE(shortfall)=${e_shortfall:.2f}\", xy=(0.7, 0.7), xycoords=\"axes fraction\", fontsize=24)\n",
    "\n",
    "    plt.show()\n"
   ]
  },
  {
   "cell_type": "code",
   "execution_count": null,
   "metadata": {
    "id": "wJ-NOZPOe1Jc"
   },
   "outputs": [],
   "source": [
    "#Apply the simulation"
   ]
  },
  {
   "cell_type": "markdown",
   "metadata": {
    "id": "n3O6XyXIPc6R"
   },
   "source": [
    "##### **R2. You are going to simulate returns and apply CPPI. First, explain how GBM is used and computed, and how it can be used into CPPI. Then, perform 5 different simulations of returns using GBM with different configurations for 1000 scenarios for periods of 40 years. Apply CPPI to the simulated returns. Plot a histogram of the terminal wealth at the end of the simulation. Also, include additional statistics, such as mean, median, the probability of falling below the floor (which is computed from the times the floor was violated during the simulations), and the expected shortfall if the floor is violated. Analyze the results and give some key conclusions about GBM usage for Portfolio Management and CPPI.**"
   ]
  },
  {
   "cell_type": "markdown",
   "metadata": {
    "id": "3GJzD9AcPXoK"
   },
   "source": [
    "## 3 Present Value of Liabilities and Funding Ratio\n",
    "\n",
    "One of the main porpuses of investing is not just to get richier or grow the assets, but also to hedge the money you need to do the thing you want in the future.\n",
    "\n",
    "The liability perspective of investment is an approach where the primary goal of the portfolio is to match or exceed the returns required to meet future liabilities rather than focusing solely on maximizing returns. This allows for Risk Management with Liabilities in mind.\n",
    "\n",
    "One way to see at this from personal investments is to consider future money objectives as a debts, i.e. liabilities. Thus, as you may remember from financial mathematics, we can valuate in the present the money that we would need in the future to cover our liability. Therefore, the first step is to calculate the present value (PV) of a set of future liabilities and determine the funding ratio, which compares available assets to these liabilities.\n",
    "\n",
    "For institutional investors, the funding ratio and liability perspective of investment are key concepts that introduce the Liability-Driven Investment (LDI) strategy, which is often used by institutions like pension funds and insurance companies to manage portfolios with a focus on meeting future financial obligations. By focusing on the funding ratio and liability alignment, they ensure that the portfolio is not only growing but also capable of fulfilling its primary purpose—meeting all future financial commitments.\n",
    "\n",
    "\n",
    "\n",
    "---\n",
    "\n",
    "**Discount Factor**\n",
    "\n",
    "The price of a pure discount bond that pays $1 at time t, given an annual interest rate r, is calculated using the discount factor:\n",
    "\n",
    "$$\n",
    "B(t) = \\frac{1}{(1 + r)^t}\n",
    "$$\n",
    "\n",
    "where:\n",
    "- t is the time in years,\n",
    "- r is the annual interest rate.\n",
    "\n",
    "---\n",
    "\n",
    "**Present Value of Liabilities**\n",
    "\n",
    "The present value PV(L) of a set of liabilities is given by the sum of each liability $L_i$ due at time $t_i$, discounted by $B(t_i)$:\n",
    "\n",
    "$$\n",
    "PV(L) = \\sum_{i=1}^k B(t_i) \\cdot L_i\n",
    "$$\n",
    "\n",
    "where:\n",
    "- $t_i$ is the time at which each liability is due,\n",
    "- $L_i$ is the amount of the liability at $t_i$,\n",
    "- r is the annual interest rate.\n",
    "\n",
    "If the yield curve is flat (a single interest rate r applies for all times), this formula calculates the total present value of all liabilities.\n",
    "\n",
    "---\n",
    "\n",
    "**Funding Ratio**\n",
    "\n",
    "The funding ratio compares available assets to the present value of liabilities. It is calculated as:\n",
    "\n",
    "$$\n",
    "\\text{Funding Ratio} = \\frac{\\text{Assets}}{PV(L)}\n",
    "$$\n",
    "\n",
    "where:\n",
    "- **Assets** is the amount of money available today to fund future liabilities,\n",
    "- PV(L) is the present value of the liabilities.\n",
    "\n",
    "A funding ratio greater than 1 indicates overfunding, while a value below 1 indicates underfunding.\n",
    "\n",
    "---\n",
    "\n",
    "**Analysis of Interest Rate Impact**\n",
    "\n",
    "To analyze the impact of interest rate changes on the funding ratio:\n",
    "- **Increasing the Interest Rate**: Lowers the present value of liabilities, as future cash flows are discounted more heavily, potentially increasing the funding ratio.\n",
    "- **Decreasing the Interest Rate**: Raises the present value of liabilities, making the funding ratio worse if assets remain constant.\n",
    "\n",
    "##### **E12. Implement fucntions to compute the the price of a pure discount bond, the PV of liabilities, and the funding ratio**"
   ]
  },
  {
   "cell_type": "code",
   "execution_count": null,
   "metadata": {
    "id": "cBLXnR7INHbU"
   },
   "outputs": [],
   "source": [
    "def discount(t, r):\n",
    "    \"\"\"\n",
    "    Compute the price of a pure discount bond that pays $1 at time t,\n",
    "    given an interest rate r.\n",
    "    \"\"\"\n",
    "    None"
   ]
  },
  {
   "cell_type": "markdown",
   "metadata": {
    "id": "4D8lXI_3QkeY"
   },
   "source": [
    "To check the discount factor for a payment due in 10 years at a 3% interest rate"
   ]
  },
  {
   "cell_type": "code",
   "execution_count": null,
   "metadata": {
    "id": "MYCh_J-6fhhK"
   },
   "outputs": [],
   "source": [
    "discount(10, 0.03) #returns 0.7440939148967249"
   ]
  },
  {
   "cell_type": "code",
   "execution_count": null,
   "metadata": {
    "id": "Dna_i-GPNHWp"
   },
   "outputs": [],
   "source": [
    "def pv(liabilities, r):\n",
    "    \"\"\"\n",
    "    Computes the present value of a set of liabilities.\n",
    "    `liabilities` is indexed by the time, and values are the amounts.\n",
    "    Returns the present value of the set.\n",
    "    \"\"\"\n",
    "    None"
   ]
  },
  {
   "cell_type": "markdown",
   "metadata": {
    "id": "aBe_4Ho0QqBE"
   },
   "source": [
    "Define a set of liabilities and calculate their present value with a 3% discount rate."
   ]
  },
  {
   "cell_type": "code",
   "execution_count": null,
   "metadata": {
    "id": "5ZyoCcHxfdMp"
   },
   "outputs": [],
   "source": [
    "liabilities = pd.Series(data=[1, 1.5, 2, 2.5], index=[3, 3.5, 4, 4.5])\n",
    "pv(liabilities, 0.03)  # Returns 6.233320315080045"
   ]
  },
  {
   "cell_type": "code",
   "execution_count": null,
   "metadata": {
    "id": "DBG2-g5-QoJ8"
   },
   "outputs": [],
   "source": [
    "def funding_ratio(assets, liabilities, r):\n",
    "    \"\"\"\n",
    "    Computes the funding ratio given assets, liabilities, and interest rate.\n",
    "    \"\"\"\n",
    "    None"
   ]
  },
  {
   "cell_type": "markdown",
   "metadata": {
    "id": "LoX0SsLHQ0oq"
   },
   "source": [
    "To calculate the funding ratio with $5 in assets and a 3% interest rate"
   ]
  },
  {
   "cell_type": "code",
   "execution_count": null,
   "metadata": {
    "id": "kXxiT0sxfnha"
   },
   "outputs": [],
   "source": [
    "funding_ratio(5, liabilities, 0.03)  # Returns 0.8021407126958777"
   ]
  },
  {
   "cell_type": "markdown",
   "metadata": {
    "id": "9VpvKqlKQ3lR"
   },
   "source": [
    "To observe the effect of interest rate changes on the funding ratio, we can recalculate it with different rates. A drop in the interest rate generally lowers the funding ratio because liabilities’ present value increases when discounted at a lower rate."
   ]
  },
  {
   "cell_type": "code",
   "execution_count": null,
   "metadata": {
    "colab": {
     "base_uri": "https://localhost:8080/"
    },
    "id": "nZOuWUqVQn9X",
    "outputId": "eef06862-d133-4763-e250-ec7b5ef23197"
   },
   "outputs": [
    {
     "data": {
      "text/plain": [
       "0.7720304366941648"
      ]
     },
     "execution_count": 108,
     "metadata": {},
     "output_type": "execute_result"
    }
   ],
   "source": [
    "# Calculate funding ratio with interest rate of 2%\n",
    "funding_ratio(5, liabilities, 0.02)  # Returns 0.7720304366941648"
   ]
  },
  {
   "cell_type": "markdown",
   "metadata": {
    "id": "e9rVlRFbQ8j3"
   },
   "source": [
    "\n",
    "\n",
    "##### **E13. Vary the interest rate and number of assets to see the effect**"
   ]
  },
  {
   "cell_type": "markdown",
   "metadata": {
    "id": "vO73OnOIREsI"
   },
   "source": [
    "You can see how different levels of assets and interest rates impact the funding ratio.\n",
    "\n",
    "- Increasing Assets: Adding more assets improves the funding ratio.\n",
    "- Improving the Rate of Return: A higher interest rate decreases the present value of liabilities, thus improving the funding ratio.\n",
    "These options provide strategies to ensure future liabilities can be met.\n",
    "\n",
    "As you may remember from financial mathematics, the most important element for liabilities valuation is the interest rate. In previous courses you may have studied liabilities with fixed interest rates, however, interest rate also vary. Therefore, for valuating future liabilities it is important to model interest rate movements. We already know how to simulate movements in returs, and interest rates are similar (from a debt owner perspective). However, we can go further and extend our study to another model that is extremely popular to model interest rates."
   ]
  },
  {
   "cell_type": "markdown",
   "metadata": {
    "id": "k-53V6DyRaRq"
   },
   "source": [
    "## 4 CIR Model for Interest Rates\n",
    "\n",
    "\n",
    "The Cox-Ingersoll-Ross model is used to model the dynamics of interest rates, and is and extension of the popular Vasicek Model to prevent negative interest rates.\n",
    "\n",
    "We have seen that the CIR is a mean reversion model that put the changes on interest rates as a function of how\n",
    "far you are at time t from the long term mean, summed to some shock which is a function of the volatility times\n",
    "the square root of the rate at time t (the Vasicek Model is the same without this square root), this square root\n",
    "ensures that if the rate goes to zero also does the shock.\n",
    "\n",
    "\n",
    "The dynamics of the interest rate \\( $r_t$ \\) under the CIR model are described by:\n",
    "\n",
    "$$\n",
    "dr_t = a(b - r_t) \\, dt + \\sigma \\sqrt{r_t} \\, dW_t\n",
    "$$\n",
    "\n",
    "where:\n",
    "- \\( $r_t$ \\) is the interest rate at time \\( t \\),\n",
    "- \\( a \\) is the speed of mean reversion,\n",
    "- \\( b \\) is the long-term mean level of the rate,\n",
    "- \\( \\sigma \\) is the volatility,\n",
    "- \\( $dW_t$ \\) is a Wiener process (random shock).\n",
    "\n",
    "Again,the square root term \\( $\\sqrt{r_t}$ \\) ensures that the interest rate does not become negative.\n",
    "\n",
    "---\n",
    "\n",
    "**Conversion Between Force of Interest and Annualized Rate**\n",
    "\n",
    "We use the following conversions between the force of interest and the annualized rate:\n",
    "\n",
    "- **Force to Annualized Rate**:\n",
    "  $$ \\text{force_to_ann}(r) = e^r - 1 $$\n",
    "\n",
    "- **Annualized Rate to Force**:\n",
    "  $$ \\text{ann_to_force}(r) = \\ln(1 + r) $$\n",
    "\n",
    "These functions allow us to switch between different representations of the interest rate in the model.\n",
    "\n",
    "\n",
    "---\n",
    "\n",
    "\n",
    "##### **E14. Implement the conversions from and to force of interest and the CIR model to simulate interest rates movements.**\n"
   ]
  },
  {
   "cell_type": "code",
   "execution_count": null,
   "metadata": {
    "id": "zXw1UZanQ9li"
   },
   "outputs": [],
   "source": [
    "def force_to_ann(r):\n",
    "    \"\"\"\n",
    "    Converts force of interest to an annualized rate.\n",
    "    \"\"\"\n",
    "    None\n",
    "\n",
    "def ann_to_force(r):\n",
    "    \"\"\"\n",
    "    Converts an annualized rate to the force of interest.\n",
    "    \"\"\"\n",
    "    None\n"
   ]
  },
  {
   "cell_type": "markdown",
   "metadata": {
    "id": "zPYheAPsSlaz"
   },
   "source": [
    "The cir function implements the Cox-Ingersoll-Ross (CIR) model, which simulates the evolution of interest rates over time."
   ]
  },
  {
   "cell_type": "code",
   "execution_count": null,
   "metadata": {
    "id": "icbxHIVBQ9jD"
   },
   "outputs": [],
   "source": [
    "def cir(n_years=10, n_scenarios=1, a=0.05, b=0.03, sigma=0.05, steps_per_year=12, r_0=None):\n",
    "    \"\"\"\n",
    "    Implements the CIR model for simulating interest rate evolution over time.\n",
    "    \"\"\"\n",
    "    if r_0 is None: #dont change this line\n",
    "        r_0 = b\n",
    "    r_0 = None #transform r_0 to force of interest\n",
    "    dt = None #step size\n",
    "    num_steps = int(n_years * steps_per_year) + 1\n",
    "    shock = None(0, scale=np.sqrt(dt), size=(num_steps, n_scenarios)) #simulate normal variables with\n",
    "    rates = np.empty_like(shock)\n",
    "    rates[0] = r_0 #first rate\n",
    "\n",
    "    for step in range(1, num_steps):\n",
    "        r_t = rates[step - 1]\n",
    "        d_r_t = None #simulate the rates movements using CIR\n",
    "        rates[step] = abs(r_t + d_r_t)\n",
    "\n",
    "    return pd.DataFrame(data=force_to_ann(rates), index=range(num_steps))\n"
   ]
  },
  {
   "cell_type": "code",
   "execution_count": null,
   "metadata": {
    "id": "gL2xIF1Qg4rL"
   },
   "outputs": [],
   "source": [
    "#Apply the CIR model\n",
    "cir(n_scenarios=10).plot(figsize=(12, 5), title=\"CIR Model Simulation of Interest Rates\")\n",
    "plt.show()"
   ]
  },
  {
   "cell_type": "markdown",
   "metadata": {
    "id": "SH8xwCs3Sxvp"
   },
   "source": [
    "\n",
    "The model can also be used to generate the movement of bond prices for a zero coupon bond that are implied\n",
    "by the generated interest rate.\n",
    "\n",
    "**Zero-Coupon Bond Pricing with the CIR Model**\n",
    "\n",
    "The CIR model also allows us to price a zero-coupon bond (ZCB) that matures at time T, given an initial rate r. The ZCB price P(t, T) is given by:\n",
    "\n",
    "$$\n",
    "P(t, T) = A(t, T) \\cdot e^{-B(t, T) \\cdot r_t}\n",
    "$$\n",
    "\n",
    "where:\n",
    "- A(t, T) and B(t, T) are defined by the CIR parameters as follows:\n",
    "\n",
    "  1. Compute h as:\n",
    "     $$\n",
    "     h = \\sqrt{a^2 + 2 \\sigma^2}\n",
    "     $$\n",
    "\n",
    "  2. Compute B(t, T) as:\n",
    "     $$\n",
    "     B(t, T) = \\frac{2 \\cdot (e^{h \\tau} - 1)}{2h + (a + h) \\cdot (e^{h \\tau} - 1)}\n",
    "     $$\n",
    "\n",
    "  3. Compute A(t, T) as:\n",
    "     $$\n",
    "     A(t, T) = \\left( \\frac{2h \\cdot e^{(h + a) \\cdot \\tau / 2}}{2h + (a + h) \\cdot (e^{h \\tau} - 1)} \\right)^{\\frac{2ab}{\\sigma^2}}\n",
    "     $$\n",
    "\n",
    "where \\( $\\tau = T - t $\\) represents the time to maturity.\n",
    "\n",
    "---\n",
    "\n",
    "\n",
    "##### **E15. Extend the CIR model to valuate ZC bonds.**\n"
   ]
  },
  {
   "cell_type": "code",
   "execution_count": null,
   "metadata": {
    "id": "N8ZAA9NHQn4E"
   },
   "outputs": [],
   "source": [
    "import math\n",
    "def cir(n_years=10, n_scenarios=1, a=0.05, b=0.03, sigma=0.05, steps_per_year=12, r_0=None):\n",
    "    if r_0 is None: #dont change this line\n",
    "        r_0 = b\n",
    "    r_0 = None #force of interest\n",
    "    dt = None\n",
    "    num_steps = int(n_years * steps_per_year) + 1\n",
    "    shock = None #normal variables\n",
    "    rates = np.empty_like(shock)\n",
    "    rates[0] = r_0\n",
    "\n",
    "    h = math.sqrt(a ** 2 + 2 * sigma ** 2)\n",
    "    prices = np.empty_like(shock)\n",
    "\n",
    "    def price(ttm, r): #time to maturity and interest rate\n",
    "        #_A is a factor that adjusts for the time to maturity (ttm) and parameters\n",
    "        #of the model (h, a, b, sigma). It often represents a discounting term that\n",
    "        #reflects the bond’s sensitivity to changes in the long-term mean (b) and mean reversion speed (a).\n",
    "        _A = ((2 * h * math.exp((h + a) * ttm / 2)) / (2 * h + (h + a) * (math.exp(h * ttm) - 1))) ** (2 * a * b / sigma ** 2)\n",
    "\n",
    "        #_B is a duration-like factor that affects how the initial rate (r) impacts the bond price. It often represents\n",
    "        #the influence of the initial interest rate over time, adjusting for the model’s assumptions about mean reversion.\n",
    "        _B = (2 * (math.exp(h * ttm) - 1)) / (2 * h + (h + a) * (math.exp(h * ttm) - 1))\n",
    "\n",
    "       #The bond price is calculated as _A * exp(-_B * r), where _A discounts the bond based on the time to maturity,\n",
    "       #and _B applies an exponential discount based on the initial rate (r)\n",
    "       #Return the bond price\n",
    "       return None\n",
    "\n",
    "    prices[0] = None #apply the prices function to obtain prices using n_years and r_0\n",
    "\n",
    "    for step in range(1, num_steps):\n",
    "        r_t = rates[step - 1]\n",
    "        d_r_t = None #CIR MODEL\n",
    "        rates[step] = abs(r_t + d_r_t)\n",
    "        prices[step] = price(n_years - step * dt, rates[step]) #compute prices\n",
    "\n",
    "    rates = pd.DataFrame(data=force_to_ann(rates), index=range(num_steps))\n",
    "    prices = pd.DataFrame(data=prices, index=range(num_steps))\n",
    "    return rates, prices\n"
   ]
  },
  {
   "cell_type": "code",
   "execution_count": null,
   "metadata": {
    "id": "sZUMEmOUiMSU"
   },
   "outputs": [],
   "source": [
    "#Apply the cir model\n",
    "cir(r_0=0.03,a=0.5,b=0.03,sigma=0.05,n_scenarios=5)[1].plot(legend=False)"
   ]
  },
  {
   "cell_type": "markdown",
   "metadata": {
    "id": "btzOQDzI2bml"
   },
   "source": [
    "We talked in class about convergence of prices for bonds, maybe the last plot helps you to see this.\n",
    "\n",
    "##### **R3. Explain the CIR model and its applications. Use it to simulate 5 interest rates with 10 scenarios each and different configurations that allow you to see how it behaves under different scenarios. Be wise when choosing your configurations. Analyze the results and provide insights about interest rate modelling.**"
   ]
  },
  {
   "cell_type": "markdown",
   "metadata": {
    "id": "VvktK5ssTFq7"
   },
   "source": [
    "In class, we also talked about the risk perspective of using cash vs bonds to fund liabilities.\n",
    "\n",
    "The following compares zc bonds to cash. Assume that liabilities are the bond prices,i.e. we are using bond prices to model liabilities as they are almost the same from a computation and mathematical finance perspective.\n",
    "\n",
    "\n"
   ]
  },
  {
   "cell_type": "code",
   "execution_count": null,
   "metadata": {
    "id": "laH20LGWS3Ca"
   },
   "outputs": [],
   "source": [
    "#we simulate for 10 years\n",
    "a_0= 0.75 #cash on hand// 0.75 of a million\n",
    "rates, bond_prices=None(r_0=0.03,b=0.03,n_scenarios=10) #use CIR models\n",
    "\n",
    "\n",
    "#assume that liabilities are the bond prices// we are using bond prices to model liabilities as they are almost the same\n",
    "liabilities=bond_prices #as interest change, the cost of liabilities cost change\n",
    "zcbond_10=pd.Series(data=[1],index=[10])\n",
    "zc_0=None None #present values of zero cupon bonds with interest rate of 0.03 - Note: the value of a zc today is the pv of a dollar\n",
    "\n",
    "#how many bonds could we buy?\n",
    "n_bonds=a_0/zc_0\n",
    "\n",
    "#asset value assuming we buy bonds\n",
    "av_zc_bonds=None #this is just how many bonds you have times the bond prices\n",
    "#asset value investing in cash\n",
    "av_cash=a_0*(rates/12+1).cumprod()"
   ]
  },
  {
   "cell_type": "code",
   "execution_count": null,
   "metadata": {
    "id": "8O36BQ68i4Qu"
   },
   "outputs": [],
   "source": [
    "av_cash.plot(legend=False)"
   ]
  },
  {
   "cell_type": "markdown",
   "metadata": {
    "id": "YLYIQF7PiztT"
   },
   "source": [
    "Notice we have good and not so good situations. So if you we're at a pension fund and you put all the money in the safe option, and you don't make the million (liability) then your return to the persons in the pension wouldn't be enough, you wouldn't have money to pay."
   ]
  },
  {
   "cell_type": "code",
   "execution_count": null,
   "metadata": {
    "id": "Qx85hodjizaJ"
   },
   "outputs": [],
   "source": [
    "av_zc_bonds.plot(legend=False)"
   ]
  },
  {
   "cell_type": "markdown",
   "metadata": {
    "id": "pVu0gihxTSK2"
   },
   "source": [
    "Notice that the return at the end of the period was one million dolars. You could have two looks at this. You could say the bonds were not safe, or that they gave you a safe reward."
   ]
  },
  {
   "cell_type": "code",
   "execution_count": null,
   "metadata": {
    "id": "hK93sB4vi942"
   },
   "outputs": [],
   "source": [
    "(av_cash/liabilities).pct_change().plot(title='Returns of Funding Ratio with Cash (10 scenarios)',legend=False,figsize=(12,5) )"
   ]
  },
  {
   "cell_type": "markdown",
   "metadata": {
    "id": "tKdjrTj_TXQS"
   },
   "source": [
    "As we said in class it's very risky."
   ]
  },
  {
   "cell_type": "code",
   "execution_count": null,
   "metadata": {
    "colab": {
     "base_uri": "https://localhost:8080/",
     "height": 486
    },
    "id": "k-fvVA97TVx9",
    "outputId": "2340c09c-a446-412d-cf18-33844ce7c367"
   },
   "outputs": [
    {
     "data": {
      "text/plain": [
       "<Axes: title={'center': 'Returns of Funding Ratio with Bonds (10 scenarios)'}>"
      ]
     },
     "execution_count": 122,
     "metadata": {},
     "output_type": "execute_result"
    },
    {
     "data": {
      "image/png": "[encoded data removed]",
      "text/plain": [
       "<Figure size 1200x500 with 1 Axes>"
      ]
     },
     "metadata": {},
     "output_type": "display_data"
    }
   ],
   "source": [
    "(av_zc_bonds/liabilities).pct_change().plot(title='Returns of Funding Ratio with Bonds (10 scenarios)',legend=False,figsize=(12,5))"
   ]
  },
  {
   "cell_type": "markdown",
   "metadata": {
    "id": "8CPNp8RQTb4q"
   },
   "source": [
    "The result is clear, we got no risk. But again, the problem is that those bonds not always can be bought, most of the times they are in the market but it's difficult to get them.\n",
    "\n",
    "Let's look at the final funding ratio.\n",
    "\n",
    "\n",
    "##### **E15. Compute the final funding ratio using the CIR model**"
   ]
  },
  {
   "cell_type": "code",
   "execution_count": null,
   "metadata": {
    "id": "TU0XAvB9TVu0"
   },
   "outputs": [],
   "source": [
    "a_0= 0.75\n",
    "#do 10000 scenarios with 0.03 initial r and b=0.03\n",
    "rates, bond_prices=None\n",
    "liabilities=bond_prices\n",
    "zcbond_10=pd.Series(data=[1],index=[10])\n",
    "zc_0=None #present value at 0.03 rate\n",
    "n_bonds=a_0/zc_0\n",
    "av_zc_bonds=None #asset value assuming we buy bonds\n",
    "av_cash=a_0*(rates/12+1).cumprod() #acumulated returns"
   ]
  },
  {
   "cell_type": "code",
   "execution_count": null,
   "metadata": {
    "id": "Nq0Ulv5KjfeV"
   },
   "outputs": [],
   "source": [
    "#at the last point in time\n",
    "tfr_cash=av_cash.iloc[-1]/liabilities.iloc[-1]\n",
    "tfr_zc_bonds=av_zc_bonds.iloc[-1]/liabilities.iloc[-1]\n",
    "ax=tfr_cash.plot.hist(label=\"Cash\", figsize=(15,6), bins=100, legend=True)\n",
    "tfr_zc_bonds.plot.hist(ax=ax,label=\"ZC Bonds\", bins=100, legend=True, secondary_y=True)"
   ]
  },
  {
   "cell_type": "markdown",
   "metadata": {
    "id": "_0KC59kKTkMq"
   },
   "source": [
    "The unique \"convinent\" assumption is that we have 0.75 million and 10 years to get the million. Repeat this time stating with 0.5"
   ]
  },
  {
   "cell_type": "code",
   "execution_count": null,
   "metadata": {
    "colab": {
     "base_uri": "https://localhost:8080/",
     "height": 542
    },
    "id": "v0wqbeZ5TVgJ",
    "outputId": "b7ad94a9-8776-4579-de0b-26d7e3770646"
   },
   "outputs": [
    {
     "data": {
      "text/plain": [
       "<Axes: >"
      ]
     },
     "execution_count": 126,
     "metadata": {},
     "output_type": "execute_result"
    },
    {
     "data": {
      "image/png": "[encoded data removed]",
      "text/plain": [
       "<Figure size 1500x600 with 2 Axes>"
      ]
     },
     "metadata": {},
     "output_type": "display_data"
    }
   ],
   "source": [
    "a_0= None\n",
    "rates, bond_prices=None\n",
    "liabilities=None\n",
    "zcbond_10=pd.Series(data=[1],index=[3])\n",
    "zc_0=None\n",
    "n_bonds=None\n",
    "av_zc_bonds=None\n",
    "av_cash=None\n",
    "\n",
    "tfr_cash=av_cash.iloc[-1]/liabilities.iloc[-1]\n",
    "tfr_zc_bonds=av_zc_bonds.iloc[-1]/liabilities.iloc[-1]\n",
    "ax=tfr_cash.plot.hist(label=\"Cash\", figsize=(15,6), bins=100, legend=True)\n",
    "tfr_zc_bonds.plot.hist(ax=ax,label=\"ZC Bonds\", bins=100, legend=True, secondary_y=True)"
   ]
  },
  {
   "cell_type": "markdown",
   "metadata": {
    "id": "X0fk2hrj4r-M"
   },
   "source": [
    "##### **R4. Assume that your liability is in Cash. Use the previous 5 scenarios you defined in R3 for the CIR modelling, and compute the funding ratio. Provide an analysis on how to use CIR to model liabilities and the funding ratio.**"
   ]
  },
  {
   "cell_type": "markdown",
   "metadata": {
    "id": "Fw6mY2ixT91e"
   },
   "source": [
    "## 5 GHP and Duration Matching"
   ]
  },
  {
   "cell_type": "markdown",
   "metadata": {
    "id": "rTCe_YWXUIz5"
   },
   "source": [
    "If we can find bonds that match our liabilities, then that's a good choice to immunize our libilities. If we don't find\n",
    " zero cuopon bonds, then we could use coupon bonds making a duration matching.\n",
    "\n",
    "\n",
    " The GHP (Goal-based Hedging Portfolio) and Duration Matching sections are often part of Liability-Driven Investment (LDI) strategies and are used to manage interest rate risk and ensure that investment portfolios can meet future obligations.\n",
    "\n",
    " The Goal-based Hedging Portfolio (GHP) is a strategy designed to reduce the risk of failing to meet specific investment goals, typically related to future liabilities. It focuses on constructing a portfolio that aligns closely with the cash flow needs or specific financial goals of the investor or institution. By aligning investments with specific goals, the GHP lowers the risk of being unable to meet obligations. GHP helps maintain a stable funding ratio by reducing exposure to market volatility, especially when cash flow needs are predictable and significant.\n",
    "\n",
    " On the other hand, duration Matching is a risk management technique used to align the interest rate sensitivity of assets and liabilities in a portfolio. The goal is to ensure that changes in interest rates have a similar effect on both assets and liabilities, minimizing interest rate risk.\n",
    "\n",
    " Both GHP and Duration Matching are focused on managing the risk associated with meeting future liabilities. While GHP focuses on creating a portfolio to achieve specific financial goals (like liability payments), Duration Matching ensures that the portfolio remains stable in the face of interest rate changes. Together, they provide a robust framework for institutions needing to manage assets in alignment with liabilities, reducing the risk of funding shortfalls and protecting the institution's financial stability.\n",
    "\n",
    "Thus, for implementing GHP and duration matching first we'll use regular\n",
    " coupon payment to replace the leak of zero coupon bonds.\n",
    "\n",
    " ##### **E16. Implement a function to compute the returns of a bond. Then implement a fucntion to use these cashflows to compute the price of the bond.**"
   ]
  },
  {
   "cell_type": "code",
   "execution_count": null,
   "metadata": {
    "id": "KnpiYTTETGvR"
   },
   "outputs": [],
   "source": [
    "def bond_cash_flows(maturity, principal=100, coupon_rate=0.03, coupons_per_year=12):\n",
    "    \"\"\"\n",
    "    Returns a series of cash flows generated by a bond, indexed by coupon number.\n",
    "    \"\"\"\n",
    "    n_coupons = round(None) #this is the coupons per year for the time to maturity\n",
    "    coupon_amt = None  # Calculate the amount of each coupon\n",
    "    coupon_times = np.arange(1, n_coupons + 1)\n",
    "    cash_flows = pd.Series(data=coupon_amt, index=coupon_times)\n",
    "    cash_flows.iloc[-1] += None  # Add principal to the final payment\n",
    "    return cash_flows"
   ]
  },
  {
   "cell_type": "markdown",
   "metadata": {
    "id": "mr5JoMSmUhoj"
   },
   "source": [
    "To get cash flows for a 3-year bond with a 3% coupon rate paid semiannually"
   ]
  },
  {
   "cell_type": "code",
   "execution_count": null,
   "metadata": {
    "colab": {
     "base_uri": "https://localhost:8080/",
     "height": 272
    },
    "id": "f_D7Ry8zTGsX",
    "outputId": "ff1117a0-bf28-4883-cdc2-0a55204f4afb"
   },
   "outputs": [
    {
     "data": {
      "text/html": [
       "<div>\n",
       "<style scoped>\n",
       "    .dataframe tbody tr th:only-of-type {\n",
       "        vertical-align: middle;\n",
       "    }\n",
       "\n",
       "    .dataframe tbody tr th {\n",
       "        vertical-align: top;\n",
       "    }\n",
       "\n",
       "    .dataframe thead th {\n",
       "        text-align: right;\n",
       "    }\n",
       "</style>\n",
       "<table border=\"1\" class=\"dataframe\">\n",
       "  <thead>\n",
       "    <tr style=\"text-align: right;\">\n",
       "      <th></th>\n",
       "      <th>0</th>\n",
       "    </tr>\n",
       "  </thead>\n",
       "  <tbody>\n",
       "    <tr>\n",
       "      <th>1</th>\n",
       "      <td>1.5</td>\n",
       "    </tr>\n",
       "    <tr>\n",
       "      <th>2</th>\n",
       "      <td>1.5</td>\n",
       "    </tr>\n",
       "    <tr>\n",
       "      <th>3</th>\n",
       "      <td>1.5</td>\n",
       "    </tr>\n",
       "    <tr>\n",
       "      <th>4</th>\n",
       "      <td>1.5</td>\n",
       "    </tr>\n",
       "    <tr>\n",
       "      <th>5</th>\n",
       "      <td>1.5</td>\n",
       "    </tr>\n",
       "    <tr>\n",
       "      <th>6</th>\n",
       "      <td>101.5</td>\n",
       "    </tr>\n",
       "  </tbody>\n",
       "</table>\n",
       "</div><br><label><b>dtype:</b> float64</label>"
      ],
      "text/plain": [
       "1      1.5\n",
       "2      1.5\n",
       "3      1.5\n",
       "4      1.5\n",
       "5      1.5\n",
       "6    101.5\n",
       "dtype: float64"
      ]
     },
     "execution_count": 131,
     "metadata": {},
     "output_type": "execute_result"
    }
   ],
   "source": [
    "bond_cash_flows(3, 100, 0.03, 2)"
   ]
  },
  {
   "cell_type": "markdown",
   "metadata": {
    "id": "FCsyrPenUm4_"
   },
   "source": [
    "The bond_price function calculates the bond's price based on its cash flows and the discount rate. The price is the present value of the cash flows."
   ]
  },
  {
   "cell_type": "code",
   "execution_count": null,
   "metadata": {
    "id": "M_D_yzcgUkTA"
   },
   "outputs": [],
   "source": [
    "def bond_price(maturity, principal=100, coupon_rate=0.03, coupons_per_year=12, discount_rate=0.03):\n",
    "    \"\"\"\n",
    "    Price a bond based on bond parameters and discount rate.\n",
    "    \"\"\"\n",
    "    cash_flows = None #obtain bonds cashflows\n",
    "    #the pv of the cashflows, using a rate that is the monthly discount rate\n",
    "    #which is the discount rate over the number of coupons per year\n",
    "    return None #use pv function properly\n"
   ]
  },
  {
   "cell_type": "markdown",
   "metadata": {
    "id": "ab9dnwG3Upsy"
   },
   "source": [
    "Calculate the price of a 20-year bond with a 5% coupon rate and a 4% discount rate"
   ]
  },
  {
   "cell_type": "code",
   "execution_count": null,
   "metadata": {
    "colab": {
     "base_uri": "https://localhost:8080/"
    },
    "id": "nRIsz9UWUkQi",
    "outputId": "083f6004-0cf3-467c-a211-56191d494802"
   },
   "outputs": [
    {
     "data": {
      "text/plain": [
       "1136.7773962036904"
      ]
     },
     "execution_count": 134,
     "metadata": {},
     "output_type": "execute_result"
    }
   ],
   "source": [
    "bond_price(20, 1000, 0.05, 2, 0.04)\n"
   ]
  },
  {
   "cell_type": "markdown",
   "metadata": {
    "id": "gk1g3cT3-VT7"
   },
   "source": [
    "Now, assume we have the following rates and compute the bonds with these rates. How can you interpret the resulting plot?"
   ]
  },
  {
   "cell_type": "code",
   "execution_count": null,
   "metadata": {
    "colab": {
     "base_uri": "https://localhost:8080/"
    },
    "id": "9dUkZf1EU0Dz",
    "outputId": "2582f360-502e-44dd-db73-52c61467fb53"
   },
   "outputs": [
    {
     "data": {
      "text/plain": [
       "array([0.01      , 0.01473684, 0.01947368, 0.02421053, 0.02894737,\n",
       "       0.03368421, 0.03842105, 0.04315789, 0.04789474, 0.05263158,\n",
       "       0.05736842, 0.06210526, 0.06684211, 0.07157895, 0.07631579,\n",
       "       0.08105263, 0.08578947, 0.09052632, 0.09526316, 0.1       ])"
      ]
     },
     "execution_count": 135,
     "metadata": {},
     "output_type": "execute_result"
    }
   ],
   "source": [
    "rates=np.linspace(0.01,.1,num=20)\n",
    "rates"
   ]
  },
  {
   "cell_type": "code",
   "execution_count": null,
   "metadata": {
    "id": "XC19oHwglRR1"
   },
   "outputs": [],
   "source": [
    "prices= [bond_price(10,1000,0.05,2,rate) for rate in rates]\n",
    "pd.DataFrame(data=prices,index=rates).plot(title=\"Prices 10y Bond with different Interest Rate\", legend=False)"
   ]
  },
  {
   "cell_type": "markdown",
   "metadata": {
    "id": "EPutytMGU78T"
   },
   "source": [
    "The problem with these bonds is the intermediate cash flows. Remember that a bond with coupons are multiple\n",
    " zero coupon bonds together, and the problem is that some of those have a short time term."
   ]
  },
  {
   "cell_type": "code",
   "execution_count": null,
   "metadata": {
    "colab": {
     "base_uri": "https://localhost:8080/",
     "height": 272
    },
    "id": "gJ0QwvaJUkLb",
    "outputId": "20f80bf2-ab79-47c4-ac23-adbeda704ed2"
   },
   "outputs": [
    {
     "data": {
      "text/html": [
       "<div>\n",
       "<style scoped>\n",
       "    .dataframe tbody tr th:only-of-type {\n",
       "        vertical-align: middle;\n",
       "    }\n",
       "\n",
       "    .dataframe tbody tr th {\n",
       "        vertical-align: top;\n",
       "    }\n",
       "\n",
       "    .dataframe thead th {\n",
       "        text-align: right;\n",
       "    }\n",
       "</style>\n",
       "<table border=\"1\" class=\"dataframe\">\n",
       "  <thead>\n",
       "    <tr style=\"text-align: right;\">\n",
       "      <th></th>\n",
       "      <th>0</th>\n",
       "    </tr>\n",
       "  </thead>\n",
       "  <tbody>\n",
       "    <tr>\n",
       "      <th>1</th>\n",
       "      <td>30.0</td>\n",
       "    </tr>\n",
       "    <tr>\n",
       "      <th>2</th>\n",
       "      <td>30.0</td>\n",
       "    </tr>\n",
       "    <tr>\n",
       "      <th>3</th>\n",
       "      <td>30.0</td>\n",
       "    </tr>\n",
       "    <tr>\n",
       "      <th>4</th>\n",
       "      <td>30.0</td>\n",
       "    </tr>\n",
       "    <tr>\n",
       "      <th>5</th>\n",
       "      <td>30.0</td>\n",
       "    </tr>\n",
       "    <tr>\n",
       "      <th>6</th>\n",
       "      <td>1030.0</td>\n",
       "    </tr>\n",
       "  </tbody>\n",
       "</table>\n",
       "</div><br><label><b>dtype:</b> float64</label>"
      ],
      "text/plain": [
       "1      30.0\n",
       "2      30.0\n",
       "3      30.0\n",
       "4      30.0\n",
       "5      30.0\n",
       "6    1030.0\n",
       "dtype: float64"
      ]
     },
     "execution_count": 137,
     "metadata": {},
     "output_type": "execute_result"
    }
   ],
   "source": [
    "cf=bond_cash_flows(3,1000,.06,2)\n",
    "cf"
   ]
  },
  {
   "cell_type": "markdown",
   "metadata": {
    "id": "ZJTD2FmFVC8c"
   },
   "source": [
    " We have cashflows, but it's better to get 30 today than 3 years in the future, right? Thus, how long are we waiting until we get the cashflows? We could compute the weighted average time."
   ]
  },
  {
   "cell_type": "code",
   "execution_count": null,
   "metadata": {
    "colab": {
     "base_uri": "https://localhost:8080/"
    },
    "id": "oOXCdpWSUkIR",
    "outputId": "836f9b5a-e6c5-434f-f7a3-c8f53f007a56"
   },
   "outputs": [
    {
     "data": {
      "text/plain": [
       "Index([ 0.970873786407767, 0.9425959091337544, 0.9151416593531595,\n",
       "       0.8884870479156888, 0.8626087843841639, 0.8374842566836542],\n",
       "      dtype='float64')"
      ]
     },
     "execution_count": 138,
     "metadata": {},
     "output_type": "execute_result"
    }
   ],
   "source": [
    "discounts=discount(cf.index,0.06/2)\n",
    "discounts"
   ]
  },
  {
   "cell_type": "markdown",
   "metadata": {
    "id": "sucWJuOBVKqf"
   },
   "source": [
    " These are the discount factors. Now, we discounted values:"
   ]
  },
  {
   "cell_type": "code",
   "execution_count": null,
   "metadata": {
    "id": "xRMBVpr2zucm"
   },
   "outputs": [],
   "source": [
    "dcf=None #the discounts time the cashflows\n",
    "dcf"
   ]
  },
  {
   "cell_type": "markdown",
   "metadata": {
    "id": "K69mHyUxVPFQ"
   },
   "source": [
    " This is the discounted values of the present values for the cashflows. Now, we can get the weights."
   ]
  },
  {
   "cell_type": "code",
   "execution_count": null,
   "metadata": {
    "colab": {
     "base_uri": "https://localhost:8080/",
     "height": 272
    },
    "id": "SpdgIYrbTGpM",
    "outputId": "0d59a86c-5861-4222-cf25-dc4c4d89c266"
   },
   "outputs": [
    {
     "data": {
      "text/html": [
       "<div>\n",
       "<style scoped>\n",
       "    .dataframe tbody tr th:only-of-type {\n",
       "        vertical-align: middle;\n",
       "    }\n",
       "\n",
       "    .dataframe tbody tr th {\n",
       "        vertical-align: top;\n",
       "    }\n",
       "\n",
       "    .dataframe thead th {\n",
       "        text-align: right;\n",
       "    }\n",
       "</style>\n",
       "<table border=\"1\" class=\"dataframe\">\n",
       "  <thead>\n",
       "    <tr style=\"text-align: right;\">\n",
       "      <th></th>\n",
       "      <th>0</th>\n",
       "    </tr>\n",
       "  </thead>\n",
       "  <tbody>\n",
       "    <tr>\n",
       "      <th>1</th>\n",
       "      <td>0.029126</td>\n",
       "    </tr>\n",
       "    <tr>\n",
       "      <th>2</th>\n",
       "      <td>0.028278</td>\n",
       "    </tr>\n",
       "    <tr>\n",
       "      <th>3</th>\n",
       "      <td>0.027454</td>\n",
       "    </tr>\n",
       "    <tr>\n",
       "      <th>4</th>\n",
       "      <td>0.026655</td>\n",
       "    </tr>\n",
       "    <tr>\n",
       "      <th>5</th>\n",
       "      <td>0.025878</td>\n",
       "    </tr>\n",
       "    <tr>\n",
       "      <th>6</th>\n",
       "      <td>0.862609</td>\n",
       "    </tr>\n",
       "  </tbody>\n",
       "</table>\n",
       "</div><br><label><b>dtype:</b> float64</label>"
      ],
      "text/plain": [
       "1    0.029126\n",
       "2    0.028278\n",
       "3    0.027454\n",
       "4    0.026655\n",
       "5    0.025878\n",
       "6    0.862609\n",
       "dtype: float64"
      ]
     },
     "execution_count": 140,
     "metadata": {},
     "output_type": "execute_result"
    }
   ],
   "source": [
    "weights=None #this is just the weights over the sum of weights\n",
    "weights"
   ]
  },
  {
   "cell_type": "markdown",
   "metadata": {
    "id": "a8qNzBABVTkf"
   },
   "source": [
    " Finally, we make a weighted average."
   ]
  },
  {
   "cell_type": "code",
   "execution_count": null,
   "metadata": {
    "colab": {
     "base_uri": "https://localhost:8080/"
    },
    "id": "6u8HdltGU9fH",
    "outputId": "c311b730-6ab2-47db-8b1e-32675388d7a1"
   },
   "outputs": [
    {
     "data": {
      "text/plain": [
       "5.579707187194534"
      ]
     },
     "execution_count": 141,
     "metadata": {},
     "output_type": "execute_result"
    }
   ],
   "source": [
    "(cf.index*weights).sum()"
   ]
  },
  {
   "cell_type": "markdown",
   "metadata": {
    "id": "1KSOYK0uVXwp"
   },
   "source": [
    " Notice that this is something we know, called The Macaulay Duration. The Macaulay Duration of a bond is the weighted average time until cash flows are received. This measure helps to determine the sensitivity of bond prices to interest rate changes.The weighted average time we have to\n",
    " wait is 5.58 event though the maturity is 6. And as you know Macaculay Duration is related to the fisrt derivative of the price\n",
    " respect to the price, if it is greater, so is the change in the price with movements in the interest rates.\n",
    " And the Macaulay Duration of a zero coupon bond is the maturity, as we know.\n",
    "\n",
    " ##### **E17. Implement a function that computes the Macaulay Duration**"
   ]
  },
  {
   "cell_type": "code",
   "execution_count": null,
   "metadata": {
    "id": "TikxhxUDVcAD"
   },
   "outputs": [],
   "source": [
    "def macaulay_duration(flows, discount_rate):\n",
    "  \"\"\"\n",
    "   Computes the Macaulay Duration of a sequence of cashflows\n",
    "   \"\"\"\n",
    "  discounted_flows=None\n",
    "  weights=None\n",
    "  return np.average(flows.index,weights=weights)"
   ]
  },
  {
   "cell_type": "code",
   "execution_count": null,
   "metadata": {
    "colab": {
     "base_uri": "https://localhost:8080/"
    },
    "id": "GdglMVhUViCN",
    "outputId": "3277bd9e-368b-4bcb-fd09-bd66dc6ef529"
   },
   "outputs": [
    {
     "data": {
      "text/plain": [
       "5.579707187194534"
      ]
     },
     "execution_count": 145,
     "metadata": {},
     "output_type": "execute_result"
    }
   ],
   "source": [
    "macaulay_duration(bond_cash_flows(3,1000,0.06,2), 0.06/2)"
   ]
  },
  {
   "cell_type": "markdown",
   "metadata": {
    "id": "sfc-CrC2VhqX"
   },
   "source": [
    "Now, as we know one technique of immunization is to match the duration. Doing this, we could have the same\n",
    " sensitive to changes on interest rate for the liabilities and assets. Constructing a portfolio with this can give us\n",
    " protection, but just for parallel changes on interest rates. But the yield curve is more complex. By the time being,\n",
    " let's make duration matching."
   ]
  },
  {
   "cell_type": "markdown",
   "metadata": {
    "id": "dKVuWkAuVw06"
   },
   "source": [
    "If a zero-coupon bond does not match the maturity of our liabilities, we can use two bonds with different maturities to achieve the desired duration through weighted allocation."
   ]
  },
  {
   "cell_type": "code",
   "execution_count": null,
   "metadata": {
    "id": "ahj-W-2fVb-w"
   },
   "outputs": [],
   "source": [
    "#define liabilities\n",
    "liabilities = pd.Series(data=[100000, 100000], index=[10, 12])"
   ]
  },
  {
   "cell_type": "markdown",
   "metadata": {
    "id": "efoAV6fpV7v_"
   },
   "source": [
    "Now, we define bonds with different maturities and calculate their Macaulay durations."
   ]
  },
  {
   "cell_type": "code",
   "execution_count": null,
   "metadata": {
    "colab": {
     "base_uri": "https://localhost:8080/"
    },
    "id": "KWootAgIVb9e",
    "outputId": "f43c9b93-8d54-47fa-ae44-e02fe2005cb0"
   },
   "outputs": [
    {
     "data": {
      "text/plain": [
       "(8.190898824083233, 13.544718122145921)"
      ]
     },
     "execution_count": 150,
     "metadata": {},
     "output_type": "execute_result"
    }
   ],
   "source": [
    "md_10 = macaulay_duration(bond_cash_flows(10, 1000, 0.05, 1), 0.04)\n",
    "md_20 = macaulay_duration(bond_cash_flows(20, 1000, 0.05, 1), 0.04)\n",
    "md_10, md_20"
   ]
  },
  {
   "cell_type": "markdown",
   "metadata": {
    "id": "aVx3yhrnWK08"
   },
   "source": [
    " We know the durations of each bond, thus, to immunize this by matching durations we must\n",
    " compute the weights to buy for each bond so that the resulted duration is the one we need to match.\n",
    "\n",
    " Your task is to calculate the weight\n",
    "$W$ of a short-duration asset (or bond) in a portfolio that also includes a long-duration asset. By correctly applying this weight, you'll create a duration-matched portfolio aligned with the target cash flows (e.g., future liabilities).\n",
    "\n",
    "The first step is to calculate the Macaulay duration of the target cash flows $d_t$, which represent the liabilities or future cash obligations. Next, calculate the Macaulay durations of the short-duration asset $d_s$ and the long-duration asset $d_l$. Then,\n",
    "\n",
    "$$W=\\frac{d_l-d_t}{d_l-d_s}$$\n",
    "\n",
    "\n",
    "By computing the appropriate weights, you’ll create a portfolio that mirrors the duration of your liabilities, effectively hedging against interest rate changes. This process stabilizes the funding ratio and ensures that fluctuations in interest rates won’t cause large mismatches in the value of your assets and liabilities.\n",
    "\n",
    "\n"
   ]
  },
  {
   "cell_type": "markdown",
   "metadata": {
    "id": "8KsZwk6dWAAt"
   },
   "source": [
    "##### **E18.Implement the match duration function to determine the weights of each bond required to match the liability duration**\n",
    "\n"
   ]
  },
  {
   "cell_type": "code",
   "execution_count": null,
   "metadata": {
    "id": "fSG24P1OV-7k"
   },
   "outputs": [],
   "source": [
    "def match_duration(cf_t, cf_s, cf_l, discount_rate):\n",
    "    \"\"\"\n",
    "    Returns the weight W in cf_s to match duration for target cash flows cf_t.\n",
    "    \"\"\"\n",
    "    d_t = None  # target\n",
    "    d_s = None  # short bond\n",
    "    d_l = macaulay_duration(cf_l, discount_rate)  # long bond\n",
    "    return None #weights computation\n"
   ]
  },
  {
   "cell_type": "code",
   "execution_count": null,
   "metadata": {
    "colab": {
     "base_uri": "https://localhost:8080/"
    },
    "id": "KQAS4ehoV-4r",
    "outputId": "ed48b038-46dd-43a1-d1ae-4b4a666977c4"
   },
   "outputs": [
    {
     "name": "stdout",
     "output_type": "stream",
     "text": [
      "0.48263092069478974\n",
      "0.5173690793052103\n"
     ]
    }
   ],
   "source": [
    "#assume the short bond is for a period of 10, and the long is for 20\n",
    "short_bond = None\n",
    "long_bond = None(20, 1000, 0.05, 1)\n",
    "w_s = None #weights to match durations for the short bond\n",
    "w_l = 1 - w_s #weight for the long is just the remaining weight\n",
    "print(w_s)\n",
    "print(w_l)"
   ]
  },
  {
   "cell_type": "markdown",
   "metadata": {
    "id": "UGYOcDS_WWaL"
   },
   "source": [
    "Given the calculated weights, construct the portfolio by allocating funds proportionally to each bond."
   ]
  },
  {
   "cell_type": "code",
   "execution_count": null,
   "metadata": {
    "id": "0mNYlgK7V-19"
   },
   "outputs": [],
   "source": [
    "price_short = bond_price(10, 1000, 0.05, 1, 0.04)\n",
    "price_long = bond_price(20, 1000, 0.05, 1, 0.04)\n",
    "a_0 = None  # Initial assets value, assume 130000\n",
    "\n",
    "portfolio_flows = pd.concat([a_0 * w_s * short_bond / price_short, a_0 * w_l * long_bond / price_long])\n"
   ]
  },
  {
   "cell_type": "code",
   "execution_count": null,
   "metadata": {
    "colab": {
     "base_uri": "https://localhost:8080/"
    },
    "id": "UNCtc1McWh04",
    "outputId": "2fc0e920-3f67-4e5c-e7b9-a86b151621e1"
   },
   "outputs": [
    {
     "data": {
      "text/plain": [
       "10.960799385088393"
      ]
     },
     "execution_count": 153,
     "metadata": {},
     "output_type": "execute_result"
    }
   ],
   "source": [
    "macaulay_duration(portfolio_flows,0.04)"
   ]
  },
  {
   "cell_type": "markdown",
   "metadata": {
    "id": "tbJoX8xEWmb5"
   },
   "source": [
    " Now, let's compute the funding ratio"
   ]
  },
  {
   "cell_type": "code",
   "execution_count": null,
   "metadata": {
    "id": "Wj77mBGEWtBw"
   },
   "outputs": [],
   "source": [
    "def funding_ratio (assets,liabilities,r_a,r_l):\n",
    "  \"\"\"\n",
    "    Computes the funding ratio of some given liabiities and interest rate.\n",
    "    \"\"\"\n",
    "  return pv(assets,r_a)/pv(liabilities,r_l)"
   ]
  },
  {
   "cell_type": "code",
   "execution_count": null,
   "metadata": {
    "colab": {
     "base_uri": "https://localhost:8080/"
    },
    "id": "T5eNO7UsWpVa",
    "outputId": "5b085153-588d-40b3-bc81-f5959bb1d26a"
   },
   "outputs": [
    {
     "data": {
      "text/plain": [
       "0.9998760012192478"
      ]
     },
     "execution_count": 157,
     "metadata": {},
     "output_type": "execute_result"
    }
   ],
   "source": [
    "funding_ratio(portfolio_flows,liabilities,0.04,0.04)"
   ]
  },
  {
   "cell_type": "markdown",
   "metadata": {
    "id": "s1rhd3m9WyHp"
   },
   "source": [
    " So, we're pretty funded. The question now is what happens to the funding ratio when there are changes on interest rates and a bunch of cashflows.\n",
    "\n",
    " ##### **R5. Explain GHP and duration matching in liability driven investing. To assess the sensitivity of the funding ratio to changes in interest rates, calculate the funding ratios for a range of rates. Consider 20 rates between 0 and 0.1 using linspace(), consider your previous long and short bonds and prices. Then, compute the funding ratio for the long bond using the 20 rates. Compute the funding ratio for the short bond with the rates. Finally, use the previous portfolio_flows and liabilities to compute the funding ratio with the rates. Plot these 3 series and explain what you see. Assess the sensitivity of the funding ratio to changes in interest rates.**"
   ]
  },
  {
   "cell_type": "markdown",
   "metadata": {
    "id": "4Du_rzQGXCyk"
   },
   "source": [
    "## 6 Simulation of Prices of Coupon Bonds using CIR\n",
    "\n",
    "We have seen how to work with bonds, and again, bonds depend on the interest rate. Therefore, we can again use CIR to model bond prices!\n",
    "\n",
    "First, let's improve our discount and pv function by doing vectorization."
   ]
  },
  {
   "cell_type": "code",
   "execution_count": null,
   "metadata": {
    "id": "1xSFyvxCVb74"
   },
   "outputs": [],
   "source": [
    "def discount (t,r):\n",
    "  \"\"\"\n",
    "    Compute the price of a pure discounte bond that pays a dollar at time t, g\n",
    "  iven an interest rate r. Returns a |t|x|r| series or data frame r can be a flo\n",
    "  at, series or data frame\n",
    "    returns a dataframe indexed by t\n",
    "    \"\"\"\n",
    "  discounts=pd.DataFrame([(r+1)**-i for i in t])\n",
    "  discounts.index=t\n",
    "  return (discounts)\n",
    "\n",
    "def pv(flows,r):\n",
    "  \"\"\"\n",
    "    Computes PV of a set of liabilities\n",
    "    flows is indexed by the time and amounts\n",
    "    r can be a scalar, a series, or a dataframe with the number of rows matchi\n",
    "  ng the num of rows in flows\n",
    "    \"\"\"\n",
    "  dates= flows.index\n",
    "  discounts= discount(dates,r)\n",
    "  return discounts.multiply(flows, axis='rows').sum()"
   ]
  },
  {
   "cell_type": "code",
   "execution_count": null,
   "metadata": {
    "colab": {
     "base_uri": "https://localhost:8080/",
     "height": 115
    },
    "id": "W2mHuNITVbif",
    "outputId": "781e37f7-593b-4e47-d8f2-c5fdb2d504d4"
   },
   "outputs": [
    {
     "data": {
      "text/html": [
       "<div>\n",
       "<style scoped>\n",
       "    .dataframe tbody tr th:only-of-type {\n",
       "        vertical-align: middle;\n",
       "    }\n",
       "\n",
       "    .dataframe tbody tr th {\n",
       "        vertical-align: top;\n",
       "    }\n",
       "\n",
       "    .dataframe thead th {\n",
       "        text-align: right;\n",
       "    }\n",
       "</style>\n",
       "<table border=\"1\" class=\"dataframe\">\n",
       "  <thead>\n",
       "    <tr style=\"text-align: right;\">\n",
       "      <th></th>\n",
       "      <th>0</th>\n",
       "    </tr>\n",
       "  </thead>\n",
       "  <tbody>\n",
       "    <tr>\n",
       "      <th>0</th>\n",
       "      <td>109.275393</td>\n",
       "    </tr>\n",
       "  </tbody>\n",
       "</table>\n",
       "</div><br><label><b>dtype:</b> float64</label>"
      ],
      "text/plain": [
       "0    109.275393\n",
       "dtype: float64"
      ]
     },
     "execution_count": 163,
     "metadata": {},
     "output_type": "execute_result"
    }
   ],
   "source": [
    "bond_price(5,100,0.05,12,0.03)"
   ]
  },
  {
   "cell_type": "code",
   "execution_count": null,
   "metadata": {
    "id": "M47sL88mU9cc"
   },
   "outputs": [],
   "source": [
    "#simulate rates and zc prices using CIR\n",
    "rates, zc_prices=None(10,500,b=0.03,r_0=0.03)"
   ]
  },
  {
   "cell_type": "code",
   "execution_count": null,
   "metadata": {
    "id": "Gfz_HX7vnfQg"
   },
   "outputs": [],
   "source": [
    "#bond prices\n",
    "bond_price(5,100,0.05,12,rates.iloc[0][[1,2,3]])"
   ]
  },
  {
   "cell_type": "code",
   "execution_count": null,
   "metadata": {
    "id": "Jsxu-rKxnjba"
   },
   "outputs": [],
   "source": [
    "bond_price(5,100,0.05,12,rates.iloc[1][[1,2,3]]) #time 1"
   ]
  },
  {
   "cell_type": "code",
   "execution_count": null,
   "metadata": {
    "id": "OO-UWynHnmGl"
   },
   "outputs": [],
   "source": [
    "rates[[1,2,3]].head()"
   ]
  },
  {
   "cell_type": "markdown",
   "metadata": {
    "id": "3BBN4ooyXwqq"
   },
   "source": [
    " And let's improve the bond_price function\n",
    "\n",
    "The bond_price function calculates the price of a bond that pays coupons until maturity, with the principal returned at maturity. The function can handle a discount_rate input as a DataFrame to simulate varying rates over time"
   ]
  },
  {
   "cell_type": "code",
   "execution_count": null,
   "metadata": {
    "id": "wFBiMJxFXwQi"
   },
   "outputs": [],
   "source": [
    "def bond_price(maturity, principal=100, coupon_rate=0.03, coupons_per_year=12, discount_rate=0.03):\n",
    "    \"\"\"\n",
    "    Computes the price of a bond that pays coupons until maturity.\n",
    "    \"\"\"\n",
    "    if isinstance(discount_rate, pd.DataFrame):\n",
    "        pricing_dates = discount_rate.index\n",
    "        prices = pd.DataFrame(index=pricing_dates, columns=discount_rate.columns)\n",
    "        for t in pricing_dates:\n",
    "            prices.loc[t] = bond_price(maturity - t / coupons_per_year, principal, coupon_rate, coupons_per_year, discount_rate.loc[t])\n",
    "        return prices\n",
    "    else:\n",
    "        if maturity <= 0:\n",
    "            return principal + principal * coupon_rate / coupons_per_year\n",
    "        cash_flows = bond_cash_flows(maturity, principal, coupon_rate, coupons_per_year)\n",
    "        return pv(cash_flows, discount_rate / coupons_per_year)\n"
   ]
  },
  {
   "cell_type": "markdown",
   "metadata": {
    "id": "vRp5YfTQZEze"
   },
   "source": [
    "Using the simulated interest rates, we calculate bond prices over time with the bond_price function. The price evolution shows how interest rate fluctuations affect bond prices."
   ]
  },
  {
   "cell_type": "code",
   "execution_count": null,
   "metadata": {
    "id": "RixOr7onnwGF"
   },
   "outputs": [],
   "source": [
    "bond_price(10,100,0.05,12,rates[[1,2,3,4,5]]).plot(legend=False, figsize=(12,6))"
   ]
  },
  {
   "cell_type": "markdown",
   "metadata": {
    "id": "5x03FLQcZIKT"
   },
   "source": [
    "To evaluate bond performance, we calculate the annualized bond returns based on percentage changes in bond prices. This reveals how bond returns respond to interest rate changes"
   ]
  },
  {
   "cell_type": "code",
   "execution_count": null,
   "metadata": {
    "id": "d5uTgQe3ZaFg"
   },
   "outputs": [],
   "source": [
    "def annualize_rets(r, periods_per_year):\n",
    "    \"\"\"\n",
    "    Annualizes a set of periodic returns.\n",
    "\n",
    "    Parameters:\n",
    "    - r: pd.Series or pd.DataFrame of returns\n",
    "    - periods_per_year: Number of compounding periods per year (e.g., 12 for monthly, 252 for daily)\n",
    "\n",
    "    Returns:\n",
    "    - Annualized return\n",
    "    \"\"\"\n",
    "    compounded_growth = None #cummulative returns\n",
    "    n_periods = None #lenght of compounded_growth\n",
    "    return compounded_growth ** (periods_per_year / n_periods) - 1\n"
   ]
  },
  {
   "cell_type": "code",
   "execution_count": null,
   "metadata": {
    "id": "muzQk85yoCrP"
   },
   "outputs": [],
   "source": [
    "prices=bond_price(10,100,0.05,12,rates[[1,2,3,4,5]])\n",
    "br = prices.pct_change().dropna()\n",
    "annualize_rets(br, 12)"
   ]
  },
  {
   "cell_type": "markdown",
   "metadata": {
    "id": "DlSrH64vZsNl"
   },
   "source": [
    " why are they negative? The reason is that we are looked at the price return, but we're interested in the total\n",
    " return, which is the value considering the coupons (dividends/payments).\n",
    "\n",
    " ##### **E19. Compute the bond total returns**"
   ]
  },
  {
   "cell_type": "code",
   "execution_count": null,
   "metadata": {
    "id": "fgac3iz-YG0a"
   },
   "outputs": [],
   "source": [
    "def bond_total_return(monthly_prices, principal, coupon_rate, coupons_per_year):\n",
    "    \"\"\"\n",
    "    Computes the total return of a bond, including coupon payments.\n",
    "\n",
    "    Parameters:\n",
    "    - monthly_prices: DataFrame of monthly bond prices (each column is a different scenario)\n",
    "    - principal: Bond principal (face value)\n",
    "    - coupon_rate: Annual coupon rate of the bond\n",
    "    - coupons_per_year: Number of coupon payments per year\n",
    "\n",
    "    Returns:\n",
    "    - DataFrame of total returns, accounting for both price changes and coupon payments.\n",
    "    \"\"\"\n",
    "    # Initialize DataFrame for coupons, matching the structure of monthly_prices\n",
    "    coupons = pd.DataFrame(0, index=monthly_prices.index, columns=monthly_prices.columns)\n",
    "    t_max = monthly_prices.index.max()\n",
    "\n",
    "    # Define payment dates (in terms of months) for the coupons\n",
    "    pay_dates = np.linspace(12 / coupons_per_year, t_max, int(coupons_per_year * t_max / 12), dtype=int)\n",
    "\n",
    "    # Populate coupon payments at the defined payment dates\n",
    "    coupons.iloc[pay_dates] = principal * coupon_rate / coupons_per_year\n",
    "\n",
    "    # Calculate total returns by adding the coupon payments to the bond price (monthly)\n",
    "    total_returns = (None) / monthly_prices.shift() - 1\n",
    "\n",
    "    # Drop the initial row since it has no previous price for return calculation\n",
    "    return total_returns.dropna()\n"
   ]
  },
  {
   "cell_type": "code",
   "execution_count": null,
   "metadata": {
    "id": "5rHX1jqloYFC"
   },
   "outputs": [],
   "source": [
    "p=bond_price(10,100,0.05,12,rates[[1,2,3,4,]])\n",
    "btr=bond_total_return(p,100,0.05,12)\n",
    "annualize_rets(btr,12)"
   ]
  },
  {
   "cell_type": "markdown",
   "metadata": {
    "id": "qHYpXI-yafAI"
   },
   "source": [
    " As we can see, bond prices change over time. The dynamics of interest rates is affecting us"
   ]
  },
  {
   "cell_type": "code",
   "execution_count": null,
   "metadata": {
    "id": "Wq-4I-Fqoabf"
   },
   "outputs": [],
   "source": [
    "price_10=bond_price(10,100,0.05,12,rates)\n",
    "price_10[[1,2,3]].tail()"
   ]
  },
  {
   "cell_type": "markdown",
   "metadata": {
    "id": "QnGokxTfaqBM"
   },
   "source": [
    " As you can see the bonds have converged to their final payment. Now, let's do the same but for 30y as you\n",
    " remember we have generated rates for 10y, so the prices are not going to converge as we still have 20 years of\n",
    " variation."
   ]
  },
  {
   "cell_type": "code",
   "execution_count": null,
   "metadata": {
    "id": "OkJU6xnfonjk"
   },
   "outputs": [],
   "source": [
    "price_30=None\n",
    "price_30[[1,2,3]].tail()"
   ]
  },
  {
   "cell_type": "markdown",
   "metadata": {
    "id": "tXDz-ZS_axFO"
   },
   "source": [
    "So, bonds tend to be tought as safe,but they are not, this is clear when the maturity is long.\n",
    " Let's make a portfolio with the two bonds. Use a 60/40 combination using the 10 and 30 year bonds"
   ]
  },
  {
   "cell_type": "code",
   "execution_count": null,
   "metadata": {
    "id": "270XppVjo7ED"
   },
   "outputs": [],
   "source": [
    "rets_30=bond_total_return(price_30,100,0.05,12)\n",
    "rets_10=bond_total_return(price_10,100,0.05,12)\n",
    "rets_bonds=None\n",
    "#The assumption is we are rebalancing 60/40 at the end of each month. This is\n",
    "#because if we don't rebalance, because of the changes of prices, at the end\n",
    "#of a month we are not 60/40 of the initial value. So, you should recompute the\n",
    "#weights."
   ]
  },
  {
   "cell_type": "code",
   "execution_count": null,
   "metadata": {
    "id": "bhSkySprpA0-"
   },
   "outputs": [],
   "source": [
    "mean_rets_bonds=rets_bonds.mean(axis='columns') #series for each column\n",
    "summary_stats(pd.DataFrame(mean_rets_bonds))"
   ]
  },
  {
   "cell_type": "markdown",
   "metadata": {
    "id": "CiBJzKwtbL7y"
   },
   "source": [
    "Obviously, it has no drawdowns as it is composed.\n",
    "\n",
    "Awesome, so you have used CIR to model bonds, rets_bonds. But apart from bonds, portfolios are often constructed using equities. Now, you know that you can use GBM to model equities. Therefore, we can now combine CIR for bonds with GBM for equities to simulate a portfolio that combines both!\n",
    "\n",
    "##### **R6. Explain how CIR is used for modelling coupon bonds, and give empirical evidence that bonds are not safe at all using a 60/40 composition of bonds (you can use your previous results). Then, use GBM to simulate equities for 10 years, in 500 scenarios with a mean of 0.07 and std of 0.15. Once you have the simulation of equities, convert them to returns, i.e. percentual changes (if you use pct_change() remember to use dropna() to delete the first na element). Once you have the returns of the equities combine them with the previous returns of bonds, rets_bonds, in a portfolio that has a 0.7/0.3 split (equities/bonds). Compute the mean of the 70/30 portfolio returns. Compute the risk-return statistics and analyze the results. Compare them with the bonds returns alone.**"
   ]
  },
  {
   "cell_type": "markdown",
   "metadata": {
    "id": "EYevs29YbqeB"
   },
   "source": [
    " With this, you have combined a portfolio of stocks and bonds in a 70/30 mix. The question now is: How do we properly choose these weights? The goal now\n",
    " is that we have assets, liabilities, and we have to find out the weights to mix them properly, this is again what we've seen as the\n",
    " allocation problem. What is the correct combination of stocks and bonds?"
   ]
  },
  {
   "cell_type": "markdown",
   "metadata": {
    "id": "V3DLxHDQb6_F"
   },
   "source": [
    "\n",
    "## 7 Naive Risk Budgeting Strategies between the PSP and GHP"
   ]
  },
  {
   "cell_type": "markdown",
   "metadata": {
    "id": "5pPF1tWUb_ZK"
   },
   "source": [
    "The next step is to find out how to combine portfolios that seek for performance (take risk) with portfolios that protect goals (liabilities).\n",
    "\n",
    "As always with these mixing problems, let's begin by testing different mixings of the portfolios and see what would have happened. Thus, let's code back testor to test the proficiency of different mixes of two portfolio.\n",
    "\n",
    "The following function bactest a mix of sets of returns."
   ]
  },
  {
   "cell_type": "code",
   "execution_count": null,
   "metadata": {
    "id": "8lyaHgukb6jn"
   },
   "outputs": [],
   "source": [
    "#allocator is a free function to allocate that the user gives. **kwargs allows us to take the function and whichever variable within.\n",
    "def bt_mix(r1,r2, allocator, **kwargs):\n",
    "    \"\"\"\n",
    "    Runs a back test (simulation) of allocating between a two sets of returns\n",
    "    r1 and r2 are TxN DataFrames or returns where T is the time step and N is the number of scenarios.\n",
    "    allocator is a function that takes two set of returns and allocator specific parameters, and produces\n",
    "    an allocation tot the first portfolio (the rest of the money is invested in the GHP) as a T x 1 DataFrame\n",
    "    Returns a TxN DataFrame of the resulting N portfolio scenarios.\n",
    "    \"\"\"\n",
    "    if not r1.shape== r2.shape:\n",
    "        raise ValueError(\"r1 and r2 need to have the same shape\")\n",
    "    weights=allocator(r1,r2, **kwargs) #The allocator takes r1, r2 and a bunch of other variables\n",
    "    if not weights.shape==r1.shape:\n",
    "        raise ValueError(\"Allocator results not matching r1 shape\")\n",
    "    r_mix=weights*r1+(1-weights)*r2\n",
    "    return r_mix"
   ]
  },
  {
   "cell_type": "markdown",
   "metadata": {
    "id": "mWqF_qN6MKCK"
   },
   "source": [
    "The following function produces a time series over T steps of allocation between the PSP and the GHP across N scenarios."
   ]
  },
  {
   "cell_type": "code",
   "execution_count": null,
   "metadata": {
    "id": "vXDa1m2fbens"
   },
   "outputs": [],
   "source": [
    "def fixedmix_allocator(r1,r2, w1, **kwargs):\n",
    "    \"\"\"\n",
    "    Produces a time series over T steps of allocation between the PSP\n",
    "    and the GHP across N scenarios.\n",
    "    PSP and GHP are TxN DataFrames that represent the returns of the PSP and GHP such that:\n",
    "    each column is a scenario\n",
    "    each row is the price for a timestep\n",
    "    returns an TxN DataFrame of PSP Weights\n",
    "    \"\"\"\n",
    "    return pd.DataFrame(data=w1, index=r1.index, columns=r1.columns)"
   ]
  },
  {
   "cell_type": "markdown",
   "metadata": {
    "id": "SI4X0Pn_MRL1"
   },
   "source": [
    "The following function is the same as before to compute the total bond return."
   ]
  },
  {
   "cell_type": "code",
   "execution_count": null,
   "metadata": {
    "id": "zOBJ7M3gd8-Q"
   },
   "outputs": [],
   "source": [
    "def bond_total_return(monthly_prices, principal, coupon_rate,coupons_per_year):\n",
    "    \"\"\"\n",
    "    Computes the total return of a bond on monthly bond prices and coupon payments\n",
    "    Assumes that dividends (coupons) are paid out at the end of the period (e.g. end of 3 months for quaterly div) and that dividens are reinvested in the bond\n",
    "    \"\"\"\n",
    "    coupons=pd.DataFrame(data=0, index=monthly_prices.index, columns=monthly_prices.columns)\n",
    "    t_max=monthly_prices.index.max()\n",
    "    pay_date=np.linspace(12/coupons_per_year,t_max, int(coupons_per_year*t_max/12), dtype=int)\n",
    "    coupons.iloc[pay_date]=principal*coupon_rate/coupons_per_year\n",
    "    total_returns=(monthly_prices+coupons)/monthly_prices.shift()-1\n",
    "    return total_returns.dropna()"
   ]
  },
  {
   "cell_type": "markdown",
   "metadata": {
    "id": "eocxIuVDMxiC"
   },
   "source": [
    "Now, we obtain the returns of bonds."
   ]
  },
  {
   "cell_type": "code",
   "execution_count": null,
   "metadata": {
    "id": "8pofDIdgqQCh"
   },
   "outputs": [],
   "source": [
    "#Use the appropriate functions to simulate the expected results\n",
    "rates, zc_prices=None #use cir for 10 years with 500 scenarios and b=0.03,r_0=0.03\n",
    "price_10=bond_price(10,100,0.05,12,rates)\n",
    "price_30=None #bond prices\n",
    "rets_10=bond_total_return(price_10,100,0.05,12)\n",
    "rets_30=None #bond returns\n",
    "\n",
    "#use the backtester allocator with an allocation of 0.6 for the 10 year bond\n",
    "rets_bonds=None(None,rets_30,allocator=fixedmix_allocator, w1=None)"
   ]
  },
  {
   "cell_type": "code",
   "execution_count": null,
   "metadata": {
    "id": "93mOi9PcrKKx"
   },
   "outputs": [],
   "source": [
    "mean_rets_bonds=rets_bonds.mean(axis=\"columns\")\n",
    "summary_stats(pd.DataFrame(mean_rets_bonds))"
   ]
  },
  {
   "cell_type": "markdown",
   "metadata": {
    "id": "nojGnNeYciEa"
   },
   "source": [
    "Again, we are going to generate equity returns and bond returns and mix them. Same as before."
   ]
  },
  {
   "cell_type": "code",
   "execution_count": null,
   "metadata": {
    "id": "n7XrOB6ee-la"
   },
   "outputs": [],
   "source": [
    "def gbm(n_years=10, n_scenarios=1000, mu=0.07,sigma=0.15,steps_per_year=12, s_0=100.0,prices=True):\n",
    "    \"\"\"\n",
    "    Evolution of a Stock Price using GBM\n",
    "    \"\"\"\n",
    "    dt=1/steps_per_year\n",
    "    n_steps=int(n_years*steps_per_year)\n",
    "\n",
    "    if prices:\n",
    "        rets_plus_1=np.random.normal(loc=1+mu*dt,scale=sigma*np.sqrt(dt),size=(n_steps+1,n_scenarios)) #loc is the mean, and scale the std\n",
    "        rets_plus_1[0]=1\n",
    "        prices=s_0*pd.DataFrame(rets_plus_1).cumprod()\n",
    "        return prices\n",
    "    else:\n",
    "        rets=np.random.normal(loc=mu*dt,scale=sigma*np.sqrt(dt),size=(n_steps+1,n_scenarios))\n",
    "        return rets"
   ]
  },
  {
   "cell_type": "code",
   "execution_count": null,
   "metadata": {
    "id": "-v5UeWpfcjVD"
   },
   "outputs": [],
   "source": [
    "price_eq=gbm(n_years=10,n_scenarios=500,mu=0.07,sigma=0.15)\n",
    "rets_eq=price_eq.pct_change().dropna()\n",
    "rets_zc=zc_prices.pct_change().dropna()"
   ]
  },
  {
   "cell_type": "markdown",
   "metadata": {
    "id": "2wG-f0XWPyCF"
   },
   "source": [
    "##### **E21. Use the backtester mixer to mix the returns of the equities and bonds using the fixedmixallocator with a weight w1 of 0.7. This returns a 70/30 portfolio. Then compute the mean of these returns using mean(axis=1). Apply the summary statistics. Notice that this first approach generates a time series of the average results and then computes the statistics. Now, take a different approach, first compute the statistics of the returns of the 70/30 and then take the average using mean(). Compare the results of the two approaches. Now, repeat the same using an allocation og 60/40. Compare the results, which annualized return is greater? What are your insights about the results?**"
   ]
  },
  {
   "cell_type": "markdown",
   "metadata": {
    "id": "Svi827XOfSjt"
   },
   "source": [
    "\n",
    "\n",
    "\n",
    "\n",
    "Now, we look at the terminal values. The following function returns the final values of a dollar at the end of the return period for each scenario\n",
    "    "
   ]
  },
  {
   "cell_type": "code",
   "execution_count": null,
   "metadata": {
    "id": "M6sbGJIvfRA-"
   },
   "outputs": [],
   "source": [
    "def terminal_values(rets):\n",
    "    \"\"\"\n",
    "    Returns the final values of a dollar at the end of the return period for each scenario\n",
    "    \"\"\"\n",
    "    return (rets+1).prod()"
   ]
  },
  {
   "cell_type": "code",
   "execution_count": null,
   "metadata": {
    "id": "w19_u4elfQ-X"
   },
   "outputs": [],
   "source": [
    "def terminal_stats(rets, floor=0.8,cap=np.inf,name=\"Stats\"):\n",
    "    \"\"\"\n",
    "    Produce Summary Statistics on the terminal value per invested dollar across a range of N scenarios\n",
    "    rets is a TxN DataFrame of returns, where T is the time_step (we assume rets is sorted by time)\n",
    "    Returns a 1 column DataFrame of Summary Stats indexed by the stat name\n",
    "    \"\"\"\n",
    "    terminal_wealth=None #the cumulative returns\n",
    "    breach=None #check if the terminal_wealth was less than the floor\n",
    "    reach=terminal_wealth>=cap\n",
    "    p_breach=breach.mean() if breach.sum()>0 else np.nan #probability of breach\n",
    "    p_reach=breach.mean() if None else np.nan #arrival probability: just computed if the total reach times is greater than 0\n",
    "\n",
    "    e_short=(floor-terminal_wealth[breach]).mean() if breach.sum()>0 else np.nan #average of all the cases we were below the floor\n",
    "    #this is the same but using the cap instead the floor... explain why\n",
    "    e_surplus=None\n",
    "    sum_stats= pd.DataFrame.from_dict({\n",
    "        \"mean\":terminal_wealth.mean(),\n",
    "        \"std\": terminal_wealth.std(),\n",
    "        \"p_breach\": p_breach,\n",
    "        \"e_short\":e_short,\n",
    "        \"p_reach\":p_reach,\n",
    "        \"e_surplus\":e_surplus}, orient=\"index\", columns=[name])\n",
    "    return sum_stats"
   ]
  },
  {
   "cell_type": "markdown",
   "metadata": {
    "id": "oimy-lcHSFlx"
   },
   "source": [
    "##### **E22/R7. Compute the terminal stats for the returns of the bonds, for the equities, for the 70/30 portfolio, and for the 60/40 portfolio. Import seaborn and use plt.figure() and sns.distplot(terminal values for equities,color=\"red\",label=\"100% Equities\"), distplot(terminal values for bonds,color=\"blue\",label=\"100% Bonds\"), etc.Analyze the results. Notice that you will obtain some NaNs, why? Interpret.**"
   ]
  },
  {
   "cell_type": "markdown",
   "metadata": {
    "id": "1AMccV7Yft48"
   },
   "source": [
    "The question is how could we get to cover the liabilities not matter what happen?\n",
    "\n",
    "The resulting plot from the exercise shows that there's a positive probability of getting below 0.8 (x-axis), but that is what we would like to get rid off.\n",
    "\n",
    "We had the case of being very risky (100% eq) or being very conservative. And then we tried to fix a mixture of both cases 70/30 in order to improve our performance but keeping a protection. What about try to going more for equity and as we get to the end point of our period of time going more and more into bonds?"
   ]
  },
  {
   "cell_type": "markdown",
   "metadata": {
    "id": "My1hq4ATfyOC"
   },
   "source": [
    "## 8 Glide Paths for Allocation\n",
    "\n",
    "Another type of allocator is a Glide Path Allocator. This is a target-date fund glide path strategy, where an investment portfolio gradually shifts its allocation from higher-risk to lower-risk investments as the target date approaches. This is commonly used in retirement funds that reduce exposure to risky assets as the target date (retirement date) approaches."
   ]
  },
  {
   "cell_type": "code",
   "execution_count": null,
   "metadata": {
    "id": "TseNIee8fmHe"
   },
   "outputs": [],
   "source": [
    "def glidepath_allocator(r1,r2,start_glide=1,end_glide=0):\n",
    "    \"\"\"\n",
    "    Simulates a Target-Date-Fund Style gradual move from r1 to r2.\n",
    "    \"\"\"\n",
    "    n_points=r1.shape[0]\n",
    "    n_col=r1.shape[1]\n",
    "    path=pd.Series(data=np.linspace(start_glide,end_glide, num=n_points))\n",
    "    paths= pd.concat([path]*n_col, axis=1) #we replicate our list// we concatenate n_col copies of path\n",
    "    paths.index=r1.index\n",
    "    paths.columns=r1.columns\n",
    "    return paths"
   ]
  },
  {
   "cell_type": "markdown",
   "metadata": {
    "id": "DENPxN6zV0h0"
   },
   "source": [
    "**E23/R8. Add to your previous analysis the terminal state of an allocation of 80/20 using a Glide Allocator with start_glide=.8,end_glide=.2. Interpret the results. What is the results for the probability of breach?**"
   ]
  },
  {
   "cell_type": "markdown",
   "metadata": {
    "id": "_gryD11cgCoh"
   },
   "source": [
    "This approach has good results, but it doensn't really solved the problem as we have positive probability of a breach."
   ]
  },
  {
   "cell_type": "markdown",
   "metadata": {
    "id": "_h7iDb4rgXPJ"
   },
   "source": [
    "## 9 Dynamic Risk Budgeting\n",
    "\n",
    "The porpuse is now to use all the stuff we have made to cronstruct real world allocators with more sophisticated techniques. Assume 5000 scenarios with 10 years, b=0.03, starting r_0 of 0.03 and std of 0.02."
   ]
  },
  {
   "cell_type": "code",
   "execution_count": null,
   "metadata": {
    "id": "bnH9JXSxcA18"
   },
   "outputs": [],
   "source": [
    "n_scenarios=None\n",
    "#use CIR to simulate rates and zc prices\n",
    "rates, zc_prices= None\n",
    "#Use GBM to simulate equities for 10 years with n_scenarios, mean 0.07 and std 0.15 for the normal variable\n",
    "price_eq=None"
   ]
  },
  {
   "cell_type": "code",
   "execution_count": null,
   "metadata": {
    "id": "S9reVy8juJoY"
   },
   "outputs": [],
   "source": [
    "#you have simulated prices, obtain now the returns\n",
    "rets_eq=None.pct_change().dropna() #equities returns\n",
    "rets_zc=None #zc returns\n",
    "\n",
    "#use the mix backtester to mix them in a equities/bonds of 70/30 using the fixedmix allocator\n",
    "rets_7030b=None\n",
    "\n",
    "#the terminal state results\n",
    "pd.concat([\n",
    "terminal_stats(rets_zc,name=\"ZC\", floor=0.75),\n",
    "terminal_stats(rets_eq,name=\"Eq\", floor=0.75),\n",
    "terminal_stats(rets_7030b,name=\"70/30\", floor=0.75)\n",
    "],axis=1).round(2)"
   ]
  },
  {
   "cell_type": "markdown",
   "metadata": {
    "id": "M9Q6TL8MgpNI"
   },
   "source": [
    "We couldn't solve the problem of the positive probabity of breach. The reason is that there are breaches even when we have a floor, the allocator is \"blind\" respect to that floor, and it is not considering it. The same happened with the glide allocator. So, now we'll consider it. And we already know how to do portfolios that consider a downside risk protection right? Yes, you know the CPPI strategy. Thus, you can implement a CPPI-style allocation strategy that introduces a risk budgeting in terms of floor and cushion, the same we did with CPPI!\n",
    "\n",
    "Even more, another technique is not to determine the risk budget according to how much we need to have at the end but instead according to how much we don't want to lose. This means that we want to make sure our drawdown is not larger than a certain level at any point of time. This is a very popular technique in practice. So, we don't have any more just a floor constraint, but a drawdown constraint. And this is just the extension of CPPI we did at the begining!\n",
    "\n",
    "So, the time has come to combine all you have studied into one single strategy.\n",
    "\n",
    "\n",
    "##### **E23/R8. Complete the following functions and code to create an allocation strategy between PSP and GHP using a CPPI-style dynamic risk budgeting. To the previous computtation of terminal states of ZC bonds, equities, and 70/30, add the terminal state for the floor allocation using a floor of 75%.Analyze the results. What happens to the probability of breach? Is this good or bad?**"
   ]
  },
  {
   "cell_type": "code",
   "execution_count": null,
   "metadata": {
    "id": "FhGKsvbVgWRd"
   },
   "outputs": [],
   "source": [
    "#we use the zero coupon prices to discount the value of the floor,\n",
    "#so we are using them as discount factor for the dfferent time periods.\n",
    "\n",
    "As you can notice, the process is very similar to CPPI.\n",
    "\n",
    "def floor_allocator(psp_r, ghp_r, floor, zc_prices, m=3):\n",
    "    \"\"\"\n",
    "    Allocation between PSP and GHP with the goal to provide exposure to the upside\n",
    "    of the PSP without going violating the floor.\n",
    "    Uses a CPPI-style dynamic risk budgeting algorithm byinvesting a multiple of the\n",
    "    cushion in the PSP.\n",
    "    Return a DataFrame with the same shape as the psp/ghp epresenting the weights in the PSP.\n",
    "    \"\"\"\n",
    "    if zc_prices.shape != psp_r.shape:\n",
    "        raise ValueError (\"PSP and ZC Prices must have the same shape\")\n",
    "    n_steps, n_scenarios= psp_r.shape\n",
    "    account_value=np.repeat(1,n_scenarios) #we consider $1\n",
    "    floor_value=np.repeat(1,n_scenarios)\n",
    "    w_history=pd.DataFrame(index=psp_r.index,columns=psp_r.columns)\n",
    "\n",
    "    for step in range(n_steps):\n",
    "        floor_value=floor*zc_prices.iloc[step] #PV of the Floor assuming today's rates and flat YC\n",
    "        cushion=None\n",
    "        #weight for psp, which is the multiplier times the cushion\n",
    "        psp_w=(Nonen).clip(0,1) #same as applying min and max// clip checks that every value in an array is in a range\n",
    "        ghp_w=1-psp_w #weight for ghp\n",
    "        #allocation to psp and ghp\n",
    "        psp_alloc=None\n",
    "        ghp_alloc=None\n",
    "        #recompute the new account value at the end of this step using the new allocations\n",
    "        account_value=None\n",
    "\n",
    "        #save the weight of psp\n",
    "        w_history.iloc[step]=None\n",
    "    return w_history"
   ]
  },
  {
   "cell_type": "markdown",
   "metadata": {
    "id": "YDIyBRIMwI38"
   },
   "source": [
    "##### **E24/R9. And again, we can extend this to introduce a drawdown constrain. Do this extension and apply it using a max drowdawn of 0.25, then compute the terminal state and compare the output with the previous results.**\n",
    "\n",
    "Note: Notice that for implementing the Drawdown constraint we can't use bonds anymore (even zc bonds) as we nee something with a very very short duration, the simplest example is cash, as it's duration is practically zero"
   ]
  },
  {
   "cell_type": "code",
   "execution_count": null,
   "metadata": {
    "id": "ReOPiSuDg-Nn"
   },
   "outputs": [],
   "source": [
    "def drawdown_allocator(psp_r,ghp_r,maxdd,m=3):\n",
    "    \"\"\"\n",
    "    Allocate between PSP and GHP with the goal to provide exposure to the upside of the\n",
    "    PSP without going violating the floor.\n",
    "    Uses a CPPI-style dynamic risk budgeting algorithm by investing\n",
    "    a multiple of the cushion  in the PSP.\n",
    "    Returns a DataFrame withthe same shape as the psp/ghp representing the weights in the PSP\n",
    "    \"\"\"\n",
    "    n_steps,n_scenarios=None\n",
    "    account_value=None\n",
    "    floor_value=None\n",
    "    peak_value=None #do the same as for floor and account_value\n",
    "    w_history=pd.DataFrame(index=psp_r.index,columns=psp_r.columns)\n",
    "\n",
    "    for step in range(n_steps):\n",
    "        floor_value=(1-maxdd)*None ### floor is based on prev peak_value\n",
    "        cushion=None\n",
    "        #weights\n",
    "        psp_w=(None).clip(0,1)\n",
    "        ghp_w=None\n",
    "        #allocations\n",
    "        psp_alloc=None\n",
    "        ghp_alloc=None\n",
    "\n",
    "        #recompute the new account value and prev peak at the end of this step\n",
    "        account_value=None\n",
    "        #the new peak value is the maximum between the previous peak value and the account value\n",
    "        peak_value=None\n",
    "\n",
    "        #save the psp weight history\n",
    "        w_history.iloc[step]=None\n",
    "    return w_history"
   ]
  },
  {
   "cell_type": "code",
   "execution_count": null,
   "metadata": {
    "id": "ujmk6ZjYhFYp"
   },
   "outputs": [],
   "source": [
    "#example: max dd=25%\n",
    "cashrate=0.02\n",
    "monthly_cashreturn=(1+cashrate)**(1/12)-1\n",
    "#we need the returns of the safe asset\n",
    "rets_cash=pd.DataFrame(data=monthly_cashreturn,index=rets_eq.index,columns=rets_eq.columns)\n",
    "#returns from max drawdowns\n",
    "rets_maxdd25=bt_mix(rets_eq,rets_cash,allocator=drawdown_allocator,maxdd=0.25)"
   ]
  },
  {
   "cell_type": "markdown",
   "metadata": {
    "id": "iy6KrIGFxSmW"
   },
   "source": [
    "After you have completed all previous exercises, you can run the following to compare the terminal values of the different investments:"
   ]
  },
  {
   "cell_type": "code",
   "execution_count": null,
   "metadata": {
    "id": "Q35L9R2fhTmm"
   },
   "outputs": [],
   "source": [
    "#Looking at terminal values\n",
    "tv_eq=terminal_values(rets_eq)\n",
    "tv_zc=terminal_values(rets_zc)\n",
    "tv_7030b=terminal_values(rets_7030b)\n",
    "tv_floor75=terminal_values(rets_floor75)\n",
    "tv_maxdd25=terminal_values(rets_maxdd25)"
   ]
  },
  {
   "cell_type": "code",
   "execution_count": null,
   "metadata": {
    "colab": {
     "base_uri": "https://localhost:8080/",
     "height": 1000
    },
    "id": "JKP-FcKThdKi",
    "outputId": "05b69909-9239-4895-a6a1-f93c15bf5a29"
   },
   "outputs": [
    {
     "name": "stderr",
     "output_type": "stream",
     "text": [
      "<ipython-input-271-e77cf61345e6>:3: UserWarning: \n",
      "\n",
      "`distplot` is a deprecated function and will be removed in seaborn v0.14.0.\n",
      "\n",
      "Please adapt your code to use either `displot` (a figure-level function with\n",
      "similar flexibility) or `histplot` (an axes-level function for histograms).\n",
      "\n",
      "For a guide to updating your code to use the new functions, please see\n",
      "https://gist.github.com/mwaskom/de44147ed2974457ad6372750bbe5751\n",
      "\n",
      "  sns.distplot(tv_eq,color=\"red\",label=\"100% Equities\", bins=100)\n",
      "<ipython-input-271-e77cf61345e6>:5: UserWarning: \n",
      "\n",
      "`distplot` is a deprecated function and will be removed in seaborn v0.14.0.\n",
      "\n",
      "Please adapt your code to use either `displot` (a figure-level function with\n",
      "similar flexibility) or `histplot` (an axes-level function for histograms).\n",
      "\n",
      "For a guide to updating your code to use the new functions, please see\n",
      "https://gist.github.com/mwaskom/de44147ed2974457ad6372750bbe5751\n",
      "\n",
      "  sns.distplot(tv_7030b, color=\"orange\", label=\"70/30 Equities/Bonds\", bins=100)\n",
      "<ipython-input-271-e77cf61345e6>:7: UserWarning: \n",
      "\n",
      "`distplot` is a deprecated function and will be removed in seaborn v0.14.0.\n",
      "\n",
      "Please adapt your code to use either `displot` (a figure-level function with\n",
      "similar flexibility) or `histplot` (an axes-level function for histograms).\n",
      "\n",
      "For a guide to updating your code to use the new functions, please see\n",
      "https://gist.github.com/mwaskom/de44147ed2974457ad6372750bbe5751\n",
      "\n",
      "  sns.distplot(tv_floor75,color=\"green\",label=\"Floor at 75%\", bins=100)\n",
      "<ipython-input-271-e77cf61345e6>:9: UserWarning: \n",
      "\n",
      "`distplot` is a deprecated function and will be removed in seaborn v0.14.0.\n",
      "\n",
      "Please adapt your code to use either `displot` (a figure-level function with\n",
      "similar flexibility) or `histplot` (an axes-level function for histograms).\n",
      "\n",
      "For a guide to updating your code to use the new functions, please see\n",
      "https://gist.github.com/mwaskom/de44147ed2974457ad6372750bbe5751\n",
      "\n",
      "  sns.distplot(tv_maxdd25, color=\"yellow\",label=\"MaxDD 25%\", bins=100)\n"
     ]
    },
    {
     "data": {
      "image/png": "[encoded data removed]",
      "text/plain": [
       "<Figure size 1200x600 with 1 Axes>"
      ]
     },
     "metadata": {},
     "output_type": "display_data"
    }
   ],
   "source": [
    "#PLOT:\n",
    "plt.figure(figsize=(12,6))\n",
    "sns.distplot(tv_eq,color=\"red\",label=\"100% Equities\", bins=100)\n",
    "plt.axvline(tv_eq.mean(), ls=\"--\", color=\"red\")\n",
    "sns.distplot(tv_7030b, color=\"orange\", label=\"70/30 Equities/Bonds\", bins=100)\n",
    "plt.axvline(tv_7030b.mean(), ls=\"--\", color=\"orange\")\n",
    "sns.distplot(tv_floor75,color=\"green\",label=\"Floor at 75%\", bins=100)\n",
    "plt.axvline(tv_floor75.mean(), ls=\"--\", color=\"green\")\n",
    "sns.distplot(tv_maxdd25, color=\"yellow\",label=\"MaxDD 25%\", bins=100)\n",
    "plt.axvline(tv_maxdd25.mean(),ls=\"--\", color=\"yellow\")\n",
    "plt.legend();"
   ]
  },
  {
   "cell_type": "markdown",
   "metadata": {
    "id": "eQXOKt3hhhiH"
   },
   "source": [
    "Equities have the max average return, but notice that it is also the one that has the most values at the rights. The floor at 75% has a very similar shape to Equities and the cost of opportunity is very small, it has an expected value good but it eliminates points below 75%.\n",
    "\n",
    "All this we have done was made based on simulated data, but there's no reason to not use real data, as the methods and algorithms are the same."
   ]
  },
  {
   "cell_type": "markdown",
   "metadata": {
    "id": "IjtRfaLLwteF"
   },
   "source": [
    "##### **E25/R10. Finally, we are going to compare the returns produced with the 0.25 max drawdown allocation LDI strategy agains the performance of the market. For this, we need to compute the historical drawdowns, we can use for this porpouse the market returns we obtained at the begining of the coursework. Compute the drawdowns of the historical market returns, apply the LDI allocation strategy using the max drawdown constraint. Analyze the drawdowns experienced using the historical returns produced by the mentioned LDI strategy. Analyze the results. Give a wrap-up that explains how we went in this coursework from CPPI and asset simulation to dynamic asset allocation strategies with LDI. Give a general conclusion for the coursework.**"
   ]
  },
  {
   "cell_type": "code",
   "execution_count": null,
   "metadata": {
    "id": "2a3ht8Tmh1DR"
   },
   "outputs": [],
   "source": [
    "def drawdown(return_series: pd.Series):\n",
    "    \"\"\"Takes a time series of asset returns,\n",
    "        returns a DataFrame with columns for\n",
    "        the Wealth index,\n",
    "        the previous peaks, and\n",
    "        the percentage drawdowns\n",
    "    \"\"\"\n",
    "    #assume you start with 1000 and compute the walth index of commulative returns\n",
    "    wealth_index=None\n",
    "    previous_peaks=wealth_index.cummax()\n",
    "    #compute the drawdowns\n",
    "    drawdowns=None\n",
    "    return pd.DataFrame({\"Wealth\":wealth_index,\n",
    "                        \"Previous Peak\":previous_peaks,\n",
    "                        \"Drawdown\":drawdowns})"
   ]
  },
  {
   "cell_type": "code",
   "execution_count": null,
   "metadata": {
    "id": "NSvnLzAcx-Ro"
   },
   "outputs": [],
   "source": [
    "#DRAWDOWNS OF HISTORICAL MARKET RETURNS\n",
    "#Consider the total market index we constructed, now from 1990 onwards\n",
    "rets_tmi=total_market_return[None]\n",
    "dd_tmi=None #obtain the drawdowns of the market returns\n",
    "ax=dd_tmi[\"Wealth\"].plot(figsize=(12,6), ls=\"-\", color=\"goldenrod\")\n",
    "dd_tmi[\"Previous Peak\"].plot(ax=ax,ls=\":\",color=\"red\")"
   ]
  },
  {
   "cell_type": "code",
   "execution_count": null,
   "metadata": {
    "id": "5X8TeZ8jhpES"
   },
   "outputs": [],
   "source": [
    "#PERFORM THE MAX DD LDI ALLOCATION STRATEGY\n",
    "#compute the drawdown strategy using cash\n",
    "cashrate=0.03\n",
    "monthly_cashreturn=None #monthly cash returns with the defined cashrate\n",
    "rets_cash=pd.DataFrame(data=monthly_cashreturn,index=rets_tmi.index,columns=[0]) #1 column dataframe\n",
    "\n",
    "#obtain the maxdd25 returns using backtester mixer with the returns of the cash,\n",
    "#the drawdown allocator, a multiplier of 5, and max drawdown of 0.25\n",
    "rets_maxdd25=None(pd.DataFrame(rets_tmi),None,allocator=None,maxdd=None,m=None)\n",
    "dd_25=drawdown(rets_maxdd25[0])\n"
   ]
  },
  {
   "cell_type": "code",
   "execution_count": null,
   "metadata": {
    "id": "Kzi3MkXbho-B"
   },
   "outputs": [],
   "source": [
    "#Plot and analyze"
   ]
  },
  {
   "cell_type": "code",
   "execution_count": null,
   "metadata": {
    "id": "IutWfGzUinuq"
   },
   "outputs": [],
   "source": []
  }
 ],
 "metadata": {
  "colab": {
   "provenance": []
  },
  "kernelspec": {
   "display_name": "Python 3",
   "name": "python3"
  },
  "language_info": {
   "name": "python"
  }
 },
 "nbformat": 4,
 "nbformat_minor": 0
}
